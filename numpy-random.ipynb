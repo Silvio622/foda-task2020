{
 "cells": [
  {
   "cell_type": "markdown",
   "metadata": {},
   "source": [
    "# The numpy.random package"
   ]
  },
  {
   "cell_type": "markdown",
   "metadata": {},
   "source": [
    "###  Set Seeds"
   ]
  },
  {
   "cell_type": "code",
   "execution_count": 2,
   "metadata": {},
   "outputs": [
    {
     "data": {
      "text/plain": [
       "[Generator(PCG64) at 0x68D6D60,\n",
       " Generator(PCG64) at 0x68D6E50,\n",
       " Generator(PCG64) at 0x68F8040,\n",
       " Generator(PCG64) at 0x68F8130,\n",
       " Generator(PCG64) at 0x68F8220,\n",
       " Generator(PCG64) at 0x68F8310,\n",
       " Generator(PCG64) at 0x68F8400,\n",
       " Generator(PCG64) at 0x68F84F0,\n",
       " Generator(PCG64) at 0x68F85E0,\n",
       " Generator(PCG64) at 0x68F86D0]"
      ]
     },
     "execution_count": 2,
     "metadata": {},
     "output_type": "execute_result"
    }
   ],
   "source": [
    "from numpy.random import Generator, PCG64, SeedSequence\n",
    "sg = SeedSequence(1234)\n",
    "rg = [Generator(PCG64(s)) for s in sg.spawn(10)]\n",
    "rg"
   ]
  },
  {
   "cell_type": "code",
   "execution_count": 3,
   "metadata": {},
   "outputs": [
    {
     "data": {
      "text/plain": [
       "[Generator(PCG64) at 0x68D6A90,\n",
       " Generator(PCG64) at 0x68D6220,\n",
       " Generator(PCG64) at 0x68D6310,\n",
       " Generator(PCG64) at 0x68D6400,\n",
       " Generator(PCG64) at 0x68D64F0,\n",
       " Generator(PCG64) at 0x68D65E0,\n",
       " Generator(PCG64) at 0x68D66D0,\n",
       " Generator(PCG64) at 0x68D67C0,\n",
       " Generator(PCG64) at 0x68D68B0,\n",
       " Generator(PCG64) at 0x68D69A0]"
      ]
     },
     "execution_count": 3,
     "metadata": {},
     "output_type": "execute_result"
    }
   ],
   "source": [
    "from numpy.random import Generator, PCG64, SeedSequence\n",
    "sg = SeedSequence(1234)\n",
    "rg = [Generator(PCG64(s)) for s in sg.spawn(10)]\n",
    "rg"
   ]
  },
  {
   "cell_type": "code",
   "execution_count": 8,
   "metadata": {},
   "outputs": [
    {
     "data": {
      "text/plain": [
       "array([9.76699767, 3.80195735, 9.23246234, 2.61692424, 3.19097058,\n",
       "       1.18091233, 2.41766293, 3.18533929, 9.64079245, 2.63649804])"
      ]
     },
     "execution_count": 8,
     "metadata": {},
     "output_type": "execute_result"
    }
   ],
   "source": [
    "from numpy.random import Generator, PCG64\n",
    "\n",
    "rg = Generator(PCG64(1234))\n",
    "rg.uniform(0,10,10)\n"
   ]
  },
  {
   "cell_type": "code",
   "execution_count": null,
   "metadata": {},
   "outputs": [],
   "source": []
  },
  {
   "cell_type": "code",
   "execution_count": null,
   "metadata": {},
   "outputs": [],
   "source": []
  }
 ],
 "metadata": {
  "kernelspec": {
   "display_name": "Python 3",
   "language": "python",
   "name": "python3"
  },
  "language_info": {
   "codemirror_mode": {
    "name": "ipython",
    "version": 3
   },
   "file_extension": ".py",
   "mimetype": "text/x-python",
   "name": "python",
   "nbconvert_exporter": "python",
   "pygments_lexer": "ipython3",
   "version": "3.8.3"
  }
 },
 "nbformat": 4,
 "nbformat_minor": 4
}
