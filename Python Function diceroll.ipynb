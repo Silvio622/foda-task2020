{
 "cells": [
  {
   "cell_type": "markdown",
   "metadata": {},
   "source": [
    "# Python Function diceroll\n",
    "***"
   ]
  },
  {
   "cell_type": "markdown",
   "metadata": {},
   "source": [
    "<br>\n",
    "\n",
    "## Author: Silvio Dunst"
   ]
  },
  {
   "cell_type": "code",
   "execution_count": null,
   "metadata": {},
   "outputs": [],
   "source": []
  },
  {
   "cell_type": "code",
   "execution_count": 47,
   "metadata": {},
   "outputs": [],
   "source": [
    "import numpy as np\n",
    "\n",
    "def dicerolls (k,n):\n",
    "    #k = 2.5 # create a variable for the for how many dices the game has\n",
    "    #n = 10 # create a variable for the amount trials\n",
    "    dicdice = {} # creates a empty dictionary\n",
    "\n",
    "\n",
    "    # check if the k and n variable an integer\n",
    "    vcheck = True\n",
    "\n",
    "    # Make sure the k variable is an Integer\n",
    "    try:\n",
    "        #if type(k) != int:\n",
    "        if isinstance(k,int) != True: # check if variable is an integer\n",
    "            print(\"The k value is not a Integer number. Please insert a Integer number!\")\n",
    "            vcheck = True\n",
    "    except NameError:\n",
    "        print(\"The k value is not an Integer number. Please insert a Integer number!\")\n",
    "        vcheck = True\n",
    "        \n",
    "     # Make sure the n variable is an Integer\n",
    "    try:\n",
    "        #if type(k) != int:\n",
    "        if isinstance(n,int) != True: # check if variable is an integer\n",
    "            print(\"The n value is not a Integer number. Please insert a Integer number!\")\n",
    "            vcheck = True\n",
    "    except NameError:\n",
    "        print(\"The n value is not a Integer number. Please insert a Integer number!\")\n",
    "        vcheck = True\n",
    "\n",
    "    #isinstance(k,int)\n",
    "\n",
    "    #k = int(k) #converts the k value to an integer\n",
    "    #n = int(n) #converts the n value to an integer\n",
    "\n",
    "\n",
    "\n",
    "    countele = 0\n",
    "    dicesum = 0 # creates a variable initialize dicesum variable\n",
    "    dicesumlist = []\n",
    "    for i in range(n): # loops how often the dice will be thrown trials\n",
    "        dicesum = 0 # reset the dice sum to 0\n",
    "        for ele in range(k): # loops through the amount of dice\n",
    "            dice = np.random.randint(1,7) # creates random numbers between 1 and 6\n",
    "            #print(dice)\n",
    "            countele = countele + 1\n",
    "            dicesum = dicesum + dice # add the dicesfaces together\n",
    "        dicesumlist.append(dicesum) # writes the dice sum to a list what becomes the dictionary keys later\n",
    "    #print(dicesum)\n",
    "\n",
    "    #print(dicesumlist)\n",
    "    \n",
    "    dicesumlist.sort() # sort the dicesumlist\n",
    "\n",
    "    for i in dicesumlist: # writes the dicesumlist to the dictionary keys with None value\n",
    "        dicdice[i] = None\n",
    "    #print(dicdice) # prints the dictionary\n",
    "\n",
    "    # write the dictionary keys to a list\n",
    "    keylist = list()\n",
    "    for i in dicdice.keys():\n",
    "        keylist.append(i)\n",
    "    #print(keylist)\n",
    "\n",
    "\n",
    "    countkeys = 0\n",
    "    keyindex = 0\n",
    "        \n",
    "    for i in range(len(keylist)):\n",
    "        for ele in dicesumlist:\n",
    "            if ele == keylist[keyindex]:    \n",
    "                countkeys = countkeys + 1\n",
    "            dicdice[keylist[keyindex]] = countkeys # writes the value for the appropiate key in the dictionary\n",
    "        countkeys = 0\n",
    "        keyindex = keyindex + 1\n",
    "\n",
    "    #print(dicdice) # prints the dictionary\n",
    "    return dicdice"
   ]
  },
  {
   "cell_type": "code",
   "execution_count": 50,
   "metadata": {},
   "outputs": [
    {
     "data": {
      "text/plain": [
       "{2: 33,\n",
       " 3: 59,\n",
       " 4: 76,\n",
       " 5: 110,\n",
       " 6: 146,\n",
       " 7: 176,\n",
       " 8: 112,\n",
       " 9: 119,\n",
       " 10: 80,\n",
       " 11: 59,\n",
       " 12: 30}"
      ]
     },
     "execution_count": 50,
     "metadata": {},
     "output_type": "execute_result"
    }
   ],
   "source": [
    "dicerolls(k = 2,n = 1000)"
   ]
  },
  {
   "cell_type": "code",
   "execution_count": null,
   "metadata": {},
   "outputs": [],
   "source": []
  }
 ],
 "metadata": {
  "kernelspec": {
   "display_name": "Python 3",
   "language": "python",
   "name": "python3"
  },
  "language_info": {
   "codemirror_mode": {
    "name": "ipython",
    "version": 3
   },
   "file_extension": ".py",
   "mimetype": "text/x-python",
   "name": "python",
   "nbconvert_exporter": "python",
   "pygments_lexer": "ipython3",
   "version": "3.8.3"
  }
 },
 "nbformat": 4,
 "nbformat_minor": 4
}
