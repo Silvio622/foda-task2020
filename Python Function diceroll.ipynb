{
 "cells": [
  {
   "cell_type": "markdown",
   "metadata": {},
   "source": [
    "# Python Function diceroll\n",
    "***"
   ]
  },
  {
   "cell_type": "markdown",
   "metadata": {},
   "source": [
    "<br>\n",
    "\n",
    "## Author: Silvio Dunst"
   ]
  },
  {
   "cell_type": "code",
   "execution_count": null,
   "metadata": {},
   "outputs": [],
   "source": []
  },
  {
   "cell_type": "code",
   "execution_count": 2,
   "metadata": {},
   "outputs": [
    {
     "name": "stdout",
     "output_type": "stream",
     "text": [
      "['1', '2', '3', '4', '5', '6']\n",
      "1 9\n",
      "2 13\n",
      "3 11\n",
      "4 29\n",
      "5 16\n",
      "6 22\n"
     ]
    }
   ],
   "source": [
    "import random\n",
    "k = 2\n",
    "n = 100 # create a variable for the amount the dice will be thrown\n",
    "diceface = {\"1\":0,\"2\":0,\"3\":0,\"4\":0,\"5\":0,\"6\":0} # create a dictionary for the dice faces\n",
    "dice = list(diceface.keys()) # creates a list for the six dice faces\n",
    "print(dice)\n",
    "\n",
    "for i in range(n):\n",
    "    diceface[random.choice(dice)]+=1 # random choice function picks random numbers from the dictionary key and add them up\n",
    "\n",
    "print(\"1\",diceface[\"1\"])\n",
    "print(\"2\",diceface[\"2\"])\n",
    "print(\"3\",diceface[\"3\"])\n",
    "print(\"4\",diceface[\"4\"])\n",
    "print(\"5\",diceface[\"5\"])\n",
    "print(\"6\",diceface[\"6\"])"
   ]
  },
  {
   "cell_type": "code",
   "execution_count": null,
   "metadata": {},
   "outputs": [],
   "source": []
  }
 ],
 "metadata": {
  "kernelspec": {
   "display_name": "Python 3",
   "language": "python",
   "name": "python3"
  },
  "language_info": {
   "codemirror_mode": {
    "name": "ipython",
    "version": 3
   },
   "file_extension": ".py",
   "mimetype": "text/x-python",
   "name": "python",
   "nbconvert_exporter": "python",
   "pygments_lexer": "ipython3",
   "version": "3.8.3"
  }
 },
 "nbformat": 4,
 "nbformat_minor": 4
}
