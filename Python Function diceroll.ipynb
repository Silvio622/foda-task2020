{
 "cells": [
  {
   "cell_type": "markdown",
   "metadata": {},
   "source": [
    "# Python Function diceroll\n",
    "***"
   ]
  },
  {
   "cell_type": "markdown",
   "metadata": {},
   "source": [
    "<br>\n",
    "\n",
    "## Author: Silvio Dunst"
   ]
  },
  {
   "cell_type": "markdown",
   "metadata": {},
   "source": [
    "<br>\n",
    "\n",
    "### Task Description\n",
    "\n",
    "The “dicerolls” function simulates the rolling of dices. The function takes two parameters. Parameter “k” is for the amount of dices and the parameter “n” is for the amount of trails. The “dicerolls” function  simulate randomly rolling “k” dice “n” times and keeping track of each total face value. The function should return a dictionary with the number of times each possible total face value occurred.\n",
    "Calling the function as `diceroll(k=2, n=1000)` should return a dictionary like:\n",
    "`{2:19,3:50,4:82,5:112,6:135,7:174,8:133,9:114,10:75,11:70,12:36}`."
   ]
  },
  {
   "cell_type": "code",
   "execution_count": 29,
   "metadata": {},
   "outputs": [],
   "source": [
    "import numpy as np\n",
    "\n",
    "def dicerolls (k,n):\n",
    "    dicdice = {} # creates a empty dictionary\n",
    "\n",
    "\n",
    "    # check if the k and n variable are Integer numbers\n",
    "    variablecheck = True\n",
    "\n",
    "    # Make sure the k variable is an Integer number\n",
    "    try:\n",
    "        if isinstance(k,int) != True: \n",
    "            print(\"The k value is not a Integer number. Please insert a Integer number!\")\n",
    "            variablecheck = True            \n",
    "    except TypeError:\n",
    "        print(\"The k value is not a Integer number. Please insert a Integer number!\")\n",
    "        variablecheck = True\n",
    "        \n",
    "        \n",
    "    # Make sure the n variable is an Integer\n",
    "    try:\n",
    "        if isinstance(n,int) != True: \n",
    "            print(\"The n value is not a Integer number. Please insert a Integer number!\")\n",
    "            variablecheck = True\n",
    "    except TypeError:\n",
    "        print(\"The n value is not a Integer number. Please insert a Integer number!\")\n",
    "        variablecheck = True\n",
    "\n",
    "    \n",
    "    dicesum = 0 # creates and initialize dicesum variable with 0\n",
    "    dicesumlist = [] # create a empty list variable\n",
    "    for i in range(n): # loops how often the dice will be thrown (trials)\n",
    "        dicesum = 0 # reset the \"dicesum\" variable to 0\n",
    "        for ele in range(k): # loops through the amount of dice\n",
    "            dice = np.random.randint(1,7) # creates random numbers between 1 and 6\n",
    "            dicesum = dicesum + dice # add the dicesfaces together\n",
    "        dicesumlist.append(dicesum) # writes the dice sum to a list what becomes the dictionary keys later\n",
    "        \n",
    "    dicesumlist.sort() # sort the dicesumlist\n",
    "\n",
    "    for i in dicesumlist: # writes the dicesumlist to the dictionary keys with None value\n",
    "        dicdice[i] = None\n",
    "    \n",
    "    # write the dictionary keys to a list\n",
    "    keylist = list()\n",
    "    for i in dicdice.keys():\n",
    "        keylist.append(i)\n",
    "    \n",
    "    countkeys = 0\n",
    "    keyindex = 0\n",
    "        \n",
    "    for i in range(len(keylist)):\n",
    "        for ele in dicesumlist:\n",
    "            if ele == keylist[keyindex]:    \n",
    "                countkeys = countkeys + 1\n",
    "            dicdice[keylist[keyindex]] = countkeys # writes the value for the appropiate key in the dictionary\n",
    "        countkeys = 0\n",
    "        keyindex = keyindex + 1\n",
    "\n",
    "    return dicdice"
   ]
  },
  {
   "cell_type": "code",
   "execution_count": 34,
   "metadata": {},
   "outputs": [
    {
     "data": {
      "text/plain": [
       "{2: 35,\n",
       " 3: 52,\n",
       " 4: 73,\n",
       " 5: 106,\n",
       " 6: 142,\n",
       " 7: 173,\n",
       " 8: 133,\n",
       " 9: 128,\n",
       " 10: 76,\n",
       " 11: 52,\n",
       " 12: 30}"
      ]
     },
     "execution_count": 34,
     "metadata": {},
     "output_type": "execute_result"
    }
   ],
   "source": [
    "dicerolls(k = 2,n = 1000)# the function dicerolls will be count here with the two inputs k and n"
   ]
  },
  {
   "cell_type": "markdown",
   "metadata": {},
   "source": [
    "<br>\n",
    "\n",
    "### Python Code Description"
   ]
  },
  {
   "cell_type": "code",
   "execution_count": null,
   "metadata": {},
   "outputs": [],
   "source": []
  }
 ],
 "metadata": {
  "kernelspec": {
   "display_name": "Python 3",
   "language": "python",
   "name": "python3"
  },
  "language_info": {
   "codemirror_mode": {
    "name": "ipython",
    "version": 3
   },
   "file_extension": ".py",
   "mimetype": "text/x-python",
   "name": "python",
   "nbconvert_exporter": "python",
   "pygments_lexer": "ipython3",
   "version": "3.8.3"
  }
 },
 "nbformat": 4,
 "nbformat_minor": 4
}
