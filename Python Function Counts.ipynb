{
 "cells": [
  {
   "cell_type": "code",
   "execution_count": 2,
   "metadata": {},
   "outputs": [],
   "source": [
    "# Python Function Count\n",
    "# Silvio Dunst"
   ]
  },
  {
   "cell_type": "code",
   "execution_count": 3,
   "metadata": {},
   "outputs": [
    {
     "name": "stdout",
     "output_type": "stream",
     "text": [
      "Insert a single Character: er\n",
      "er\n",
      "You insert more then one Character\n",
      "Insert a single Character: r\n",
      "r\n",
      "Insert a single Character: t\n",
      "t\n",
      "Insert a single Character: 1\n",
      "1\n",
      "Insert a single Character: 4\n",
      "4\n",
      "Insert a single Character: 6\n",
      "6\n",
      "['r', 't', '1', '4', '6']\n"
     ]
    }
   ],
   "source": [
    "characterlist =[] # create a list variable\n",
    "count = 10\n",
    "while len(characterlist) < count:    \n",
    "    character = input(str('Insert a single Character: '))\n",
    "    print(character)\n",
    "    if len(character) == 1:\n",
    "        characterlist.append(character)\n",
    "        count = count - 1\n",
    "    elif len(character) > 1 :\n",
    "        print('You insert more then one Character')\n",
    "print(characterlist)  "
   ]
  }
 ],
 "metadata": {
  "kernelspec": {
   "display_name": "Python 3",
   "language": "python",
   "name": "python3"
  },
  "language_info": {
   "codemirror_mode": {
    "name": "ipython",
    "version": 3
   },
   "file_extension": ".py",
   "mimetype": "text/x-python",
   "name": "python",
   "nbconvert_exporter": "python",
   "pygments_lexer": "ipython3",
   "version": "3.8.3"
  }
 },
 "nbformat": 4,
 "nbformat_minor": 4
}
