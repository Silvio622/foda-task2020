{
 "cells": [
  {
   "cell_type": "markdown",
   "metadata": {},
   "source": [
    "<br>\n",
    "\n",
    "# Python Function Count\n",
    "***"
   ]
  },
  {
   "cell_type": "markdown",
   "metadata": {},
   "source": [
    "### Author: Silvio Dunst"
   ]
  },
  {
   "cell_type": "markdown",
   "metadata": {},
   "source": [
    "<br>\n",
    "\n",
    "### Task Description\n",
    "A Python function called counts that takes a list as input and returns a dictionary of unique items\n",
    "in the list as keys and the number of times each item appears as values.\n",
    "Example: the input ['A','A','B','A','C']\n",
    "should have an output {'A': 3, 'B': 1, 'C': 1}\n",
    "***"
   ]
  },
  {
   "cell_type": "markdown",
   "metadata": {},
   "source": [
    "Insert some Characters and the function will count the amount of the same characters "
   ]
  },
  {
   "cell_type": "code",
   "execution_count": 2,
   "metadata": {},
   "outputs": [],
   "source": [
    "def count():\n",
    "# User character Input\n",
    "    characterlist =[] # create an empty list variable\n",
    "    countdic = {} # create an empty dictionary variable\n",
    "    characterInput = '' # create an empty string variable\n",
    "\n",
    "# Insert a character for the first time \n",
    "    characterInput = input(str('Insert a single character or type stop to finish: '))\n",
    "    if characterInput != 'stop':\n",
    "        print(characterInput)\n",
    "        if len(characterInput) == 1 :\n",
    "            characterlist.append(characterInput)\n",
    "        elif len(characterInput) > 1 and not 'stop':\n",
    "            print('You did insert more than one character')\n",
    "    \n",
    "# Insert more characters until \"stop\" will be inserted\n",
    "        while characterInput != 'stop':    \n",
    "            characterInput = input(str('Insert a single character or type stop to finish: '))\n",
    "            print(characterInput)\n",
    "            if len(characterInput) == 1 :\n",
    "                characterlist.append(characterInput)\n",
    "            elif len(characterInput) > 1 and not 'stop' : \n",
    "                print('You did insert more than one character')\n",
    "                \n",
    "# writes the character values from the characterlist to the dictionary \"countdic\" as the keys with the values \"None\"   \n",
    "        for i in characterlist:\n",
    "            countdic[i] = None\n",
    "     \n",
    "    \n",
    "# write the dictionary keys to a list\n",
    "        keylist = list()\n",
    "        for i in countdic.keys():\n",
    "            keylist.append(i)\n",
    "\n",
    "# nested loop to count the occurrences of an element in a list \n",
    "        countkeys = 0\n",
    "        keyindex = 0 \n",
    "        for index in range(len(keylist)):\n",
    "            for ele in characterlist:\n",
    "                if ele == keylist[keyindex]:    \n",
    "                    countkeys = countkeys + 1\n",
    "                countdic[keylist[keyindex]] = countkeys # writes the value for the appropriate key in the dictionary\n",
    "            countkeys = 0\n",
    "            keyindex = keyindex + 1\n",
    "                \n",
    "    else:\n",
    "        print('You did insert stop to finsh') \n",
    "    return(countdic)\n",
    " \n"
   ]
  },
  {
   "cell_type": "code",
   "execution_count": null,
   "metadata": {
    "scrolled": true
   },
   "outputs": [],
   "source": [
    "characterInput = count()# the function Count will be called here with the input from the User in characterInput\n",
    "print(characterInput)"
   ]
  },
  {
   "cell_type": "markdown",
   "metadata": {},
   "source": [
    "<br>\n",
    "\n",
    "### Documentation\n",
    "***"
   ]
  },
  {
   "cell_type": "markdown",
   "metadata": {},
   "source": [
    "##### **Python Code Description**\n",
    "The function Count will be created in cell 1 line 1 with the keyword def.\n",
    "```python\n",
    "def count():\n",
    "```\n",
    "The function return value for the dictionary (countdic) appears in line 48.\n",
    "```python\n",
    "return(countdic)\n",
    "```\n",
    "The function will be called in cell 2 in line 1 and the result will be printed in line 2.\n",
    "```python    \n",
    "characterInput = count()# the function Count will be called here with the input from the User in characterInput\n",
    "print(characterInput)\n",
    "```\n",
    "\n",
    "##### **Cell 1 User Input**\n",
    "Create three variables \"characterlist\", \"countdic\" and \"characterInput\". In line 8 the user input will be converted to a string. If the input is \"stop\" the function will be terminated in line 46. In line 11 the user input will be checked for the amount of characters. If the user input has only one character the character goes in the characterlist otherwise the message appears \"You did insert more than on character\". The same code will be executed in the \"while loop\" from line 17 to line 23.\n",
    "\n",
    "```python\n",
    "# User character Input\n",
    "characterlist =[] # create an empty list variable\n",
    "countdic = {} # create an empty dictionary variable\n",
    "characterInput = '' # create an empty string variable\n",
    "\n",
    "# Insert a character for the first time \n",
    "characterInput = input(str('Insert a single character or type stop to finish: '))\n",
    "if characterInput != 'stop':\n",
    "    print(characterInput)\n",
    "    if len(characterInput) == 1 :\n",
    "        characterlist.append(characterInput)\n",
    "    elif len(characterInput) > 1 and not 'stop':\n",
    "        print('You did insert more than one character')\n",
    "```\n",
    "In line 25 I use a \"for loop\" to put the characters from the characterlist in to a dictionary \"countdic\". The characters become the keys. The value will be None. I adapted the code what I found on the \"geeksforgeeks\" website[1].\n",
    "```python\n",
    "for i in characterlist:\n",
    "    countdic[i] = None\n",
    "```\n",
    "Next I create a new list called \"keylist\". I use a \"for loop\" to read out the new dictionary keys from the \"countdic\" dictionary. The dictionary keys will be added in the \"keylist\". I found some code on the \"geeksforgeeks\" website [2] what I adapted for my purpose.\n",
    "```python\n",
    "keylist = list()\n",
    "for i in countdic.keys():\n",
    "    keylist.append(i)\n",
    "```\n",
    "In the nested \"for loop\" I count the occurrence of an element in a list. I create two empty variables \"countkeys\" and \"keyindex\". I found some ideas on the \"geeksforgeeks\" website[3]. In the first loop when the first element (dictionary key) appears, the next for loop will be activated. The second loop goes through all the elements of the characterlist. If characters are the same in characterlist as first character in the keylist (dictionary key) the characters will be counted in the \"countkey\" variable. In every loop a new count value from the \"countkeys\" variable will be added to the dictionary key as a dictionary value. When all the characterlist elements are looped through the countkeys variable will reset to 0 and the index for the dictionary key (keyindex) will be increased by 1. I adapted some code out of the \"A Whirlwind Tour of Python Page 36\" book [4].The code jumps back now to the first loop again. The process repeats until all the elements in the keylist are looped through.   \n",
    "```python\n",
    "countkeys = 0\n",
    "keyindex = 0 \n",
    "for index in range(len(keylist)):\n",
    "    for ele in characterlist:\n",
    "        if ele == keylist[keyindex]:    \n",
    "            countkeys = countkeys + 1\n",
    "        countdic[keylist[keyindex]] = countkeys # writes the value for the appropriate key in the    dictionary\n",
    "    countkeys = 0\n",
    "    keyindex = keyindex + 1\n",
    "```\n"
   ]
  },
  {
   "cell_type": "markdown",
   "metadata": {},
   "source": [
    "<br>\n",
    "\n",
    "## Reference\n",
    "***"
   ]
  },
  {
   "cell_type": "markdown",
   "metadata": {},
   "source": [
    "#### Task 1\n",
    "[1] :  https://www.geeksforgeeks.org/python-initialize-a-dictionary-with-only-keys-from-a-list/?ref=lbp\n",
    "\n",
    "[2] :  https://www.geeksforgeeks.org/python-get-dictionary-keys-as-a-list/?ref=lbp\n",
    "\n",
    "[3] :  https://www.geeksforgeeks.org/python-count-occurrences-element-list/\n",
    "\n",
    "[4] :  A Whirlwind Tour of Python by Jake VanderPlas"
   ]
  },
  {
   "cell_type": "markdown",
   "metadata": {},
   "source": [
    "<br>\n",
    "\n",
    "## End\n",
    "***"
   ]
  }
 ],
 "metadata": {
  "kernelspec": {
   "display_name": "Python 3",
   "language": "python",
   "name": "python3"
  },
  "language_info": {
   "codemirror_mode": {
    "name": "ipython",
    "version": 3
   },
   "file_extension": ".py",
   "mimetype": "text/x-python",
   "name": "python",
   "nbconvert_exporter": "python",
   "pygments_lexer": "ipython3",
   "version": "3.8.3"
  }
 },
 "nbformat": 4,
 "nbformat_minor": 4
}
