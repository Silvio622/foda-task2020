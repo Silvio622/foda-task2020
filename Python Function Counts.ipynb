{
 "cells": [
  {
   "cell_type": "markdown",
   "metadata": {},
   "source": [
    "# Python Function Count"
   ]
  },
  {
   "cell_type": "markdown",
   "metadata": {},
   "source": [
    "### Author: Silvio Dunst"
   ]
  },
  {
   "cell_type": "markdown",
   "metadata": {},
   "source": [
    "### Task Description\n",
    "A Python function called counts that takes a list as input and returns a dictionary of unique items\n",
    "in the list as keys and the number of times each item appears as values.\n",
    "Example: the input ['A','A','B','A','C']\n",
    "should have output {'A': 3, 'B': 1, 'C': 1}"
   ]
  },
  {
   "cell_type": "markdown",
   "metadata": {},
   "source": [
    "Insert 5 Characters and the function will count the amount of the same characters "
   ]
  },
  {
   "cell_type": "code",
   "execution_count": 1,
   "metadata": {},
   "outputs": [],
   "source": [
    "def count():\n",
    "    characterlist =[] # create a empty list variable\n",
    "    countdic = {} # create a empty dictionary variable\n",
    "    characterInput = '' # create a empty string variable\n",
    "\n",
    "\n",
    "    characterInput = input(str('Insert a single Character or type stop to finsh: '))\n",
    "    if characterInput != 'stop':\n",
    "        print(characterInput)\n",
    "        if len(characterInput) == 1 :\n",
    "            characterlist.append(characterInput)\n",
    "        elif len(characterInput) > 1 and not 'stop':\n",
    "            print('You insert more then one Character')\n",
    "    \n",
    "\n",
    "        while characterInput != 'stop':    \n",
    "            characterInput = input(str('Insert a single Character or type stop to finsh: '))\n",
    "            print(characterInput)\n",
    "            if len(characterInput) == 1 :\n",
    "                characterlist.append(characterInput)\n",
    "            elif len(characterInput) > 1 and not 'stop' : \n",
    "                print('You insert more then one Character')\n",
    "    \n",
    "        for i in characterlist:\n",
    "            countdic[i] = None\n",
    "     \n",
    "    \n",
    "        # write the dictionary keys to a list\n",
    "        keylist = list()\n",
    "        for i in countdic.keys():\n",
    "            keylist.append(i)\n",
    "\n",
    "        countkeys = 0\n",
    "        keyindex = 0\n",
    "    \n",
    "        for index in range(len(keylist)):\n",
    "            for ele in characterlist:\n",
    "                if ele == keylist[keyindex]:    \n",
    "                    countkeys = countkeys + 1\n",
    "                countdic[keylist[keyindex]] = countkeys # writes the value for the appropiate key in the dictionary\n",
    "            countkeys = 0\n",
    "            keyindex = keyindex + 1\n",
    "                \n",
    "    else:\n",
    "        print('You insert stop to finsh') \n",
    "    return(countdic)\n",
    "    \n",
    "#characterInput = count()# the function Count will be called here with the Input from the User in characterInput\n"
   ]
  },
  {
   "cell_type": "code",
   "execution_count": 4,
   "metadata": {
    "scrolled": true
   },
   "outputs": [
    {
     "name": "stdout",
     "output_type": "stream",
     "text": [
      "Insert a single Character or type stop to finsh: A\n",
      "A\n",
      "Insert a single Character or type stop to finsh: sd\n",
      "sd\n",
      "Insert a single Character or type stop to finsh: A\n",
      "A\n",
      "Insert a single Character or type stop to finsh: B\n",
      "B\n",
      "Insert a single Character or type stop to finsh: A\n",
      "A\n",
      "Insert a single Character or type stop to finsh: C\n",
      "C\n",
      "Insert a single Character or type stop to finsh: stop\n",
      "stop\n",
      "{'A': 3, 'B': 1, 'C': 1}\n"
     ]
    }
   ],
   "source": [
    "characterInput = count()# the function Count will be called here with the Input from the User in characterInput\n",
    "print(characterInput)"
   ]
  },
  {
   "cell_type": "code",
   "execution_count": null,
   "metadata": {},
   "outputs": [],
   "source": []
  }
 ],
 "metadata": {
  "kernelspec": {
   "display_name": "Python 3",
   "language": "python",
   "name": "python3"
  },
  "language_info": {
   "codemirror_mode": {
    "name": "ipython",
    "version": 3
   },
   "file_extension": ".py",
   "mimetype": "text/x-python",
   "name": "python",
   "nbconvert_exporter": "python",
   "pygments_lexer": "ipython3",
   "version": "3.8.3"
  }
 },
 "nbformat": 4,
 "nbformat_minor": 4
}
