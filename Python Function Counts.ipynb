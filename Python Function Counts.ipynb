{
 "cells": [
  {
   "cell_type": "markdown",
   "metadata": {},
   "source": [
    "# Python Function Count"
   ]
  },
  {
   "cell_type": "markdown",
   "metadata": {},
   "source": [
    "### Author: Silvio Dunst"
   ]
  },
  {
   "cell_type": "markdown",
   "metadata": {},
   "source": [
    "### Task Description\n",
    "A Python function called counts that takes a list as input and returns a dictionary of unique items\n",
    "in the list as keys and the number of times each item appears as values.\n",
    "Example: the input ['A','A','B','A','C']\n",
    "should have output {'A': 3, 'B': 1, 'C': 1}"
   ]
  },
  {
   "cell_type": "markdown",
   "metadata": {},
   "source": [
    "Insert 5 Characters and the function will count the amount of the same characters "
   ]
  },
  {
   "cell_type": "code",
   "execution_count": 1,
   "metadata": {},
   "outputs": [
    {
     "name": "stdout",
     "output_type": "stream",
     "text": [
      "Insert a single Character: A\n",
      "A\n",
      "Insert a single Character: A\n",
      "A\n",
      "Insert a single Character: B\n",
      "B\n",
      "Insert a single Character: A\n",
      "A\n",
      "Insert a single Character: C\n",
      "C\n",
      "['A', 'A', 'B', 'A', 'C']\n"
     ]
    }
   ],
   "source": [
    "def count():\n",
    "    characterlist =[] # create a empty list variable\n",
    "    charactercount = 10 # create a Count variable and initialize it with a value of 10\n",
    "    countdic ={} # create a empty dictionary variable\n",
    "\n",
    "    while len(characterlist) < charactercount:    \n",
    "        characterInput = input(str('Insert a single Character: '))\n",
    "        print(characterInput)\n",
    "        if len(characterInput) == 1:\n",
    "            characterlist.append(characterInput)\n",
    "            charactercount = charactercount - 1\n",
    "        elif len(characterInput) > 1 :\n",
    "            print('You insert more then one Character')\n",
    "    print(characterlist)\n",
    "    \n",
    "# Put the values from the character list as a key[i]with the value none in the dictionary   \n",
    "    for i in characterlist:\n",
    "        countdic[i] = None\n",
    "        \n",
    "# write the dictionary keys to a list\n",
    "    keylist = list()\n",
    "    for i in countdic.keys():\n",
    "        keylist.append(i)\n",
    "    \n",
    "    countkeys = 0\n",
    "    keyindex = 0\n",
    "# nested loop\n",
    "    for index in range(len(keylist)):\n",
    "        for ele in characterlist:\n",
    "            if ele == keylist[keyindex]:    \n",
    "                countkeys = countkeys + 1\n",
    "                countdic[keylist[keyindex]] = countkeys # writes the value for the appropiate key in the dictionary\n",
    "        countkeys = 0\n",
    "        keyindex = keyindex + 1\n",
    "    return(countdic)\n",
    "characterInput = count()# the function Count will be called here with the Input from the User in characterInput"
   ]
  },
  {
   "cell_type": "code",
   "execution_count": 2,
   "metadata": {},
   "outputs": [
    {
     "name": "stdout",
     "output_type": "stream",
     "text": [
      "{'A': 3, 'B': 1, 'C': 1}\n"
     ]
    }
   ],
   "source": [
    "print(characterInput)"
   ]
  }
 ],
 "metadata": {
  "kernelspec": {
   "display_name": "Python 3",
   "language": "python",
   "name": "python3"
  },
  "language_info": {
   "codemirror_mode": {
    "name": "ipython",
    "version": 3
   },
   "file_extension": ".py",
   "mimetype": "text/x-python",
   "name": "python",
   "nbconvert_exporter": "python",
   "pygments_lexer": "ipython3",
   "version": "3.8.3"
  }
 },
 "nbformat": 4,
 "nbformat_minor": 4
}
