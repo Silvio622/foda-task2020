{
 "cells": [
  {
   "cell_type": "markdown",
   "metadata": {},
   "source": [
    "# Python Function Count"
   ]
  },
  {
   "cell_type": "markdown",
   "metadata": {},
   "source": [
    "### Author: Silvio Dunst"
   ]
  },
  {
   "cell_type": "markdown",
   "metadata": {},
   "source": [
    "Insert 5 Characters and the function will count the amount of the same characters "
   ]
  },
  {
   "cell_type": "code",
   "execution_count": 1,
   "metadata": {},
   "outputs": [
    {
     "name": "stdout",
     "output_type": "stream",
     "text": [
      "Insert a single Character: 5\n",
      "5\n",
      "Insert a single Character: w\n",
      "w\n",
      "Insert a single Character: 3\n",
      "3\n",
      "Insert a single Character: 6\n",
      "6\n",
      "Insert a single Character: 6\n",
      "6\n",
      "['5', 'w', '3', '6', '6']\n"
     ]
    }
   ],
   "source": [
    "characterlist =[] # create a empty list variable\n",
    "count = 10 # create a Count variable and initialize it with a value of 10\n",
    "countdic ={} # create a empty dictionary variable\n",
    "\n",
    "while len(characterlist) < count:    \n",
    "    character = input(str('Insert a single Character: '))\n",
    "    print(character)\n",
    "    if len(character) == 1:\n",
    "        characterlist.append(character)\n",
    "        count = count - 1\n",
    "    elif len(character) > 1 :\n",
    "        print('You insert more then one Character')\n",
    "print(characterlist)"
   ]
  },
  {
   "cell_type": "code",
   "execution_count": 2,
   "metadata": {},
   "outputs": [],
   "source": [
    "# Put the values from the character list as a key[i]with the value none in the dictionary\n",
    "for i in characterlist:\n",
    "    countdic[i] = None    "
   ]
  },
  {
   "cell_type": "code",
   "execution_count": 3,
   "metadata": {},
   "outputs": [],
   "source": [
    "# Put the keys from the dictionary in to a list \"keylist\"\n",
    "keylist = list()\n",
    "for i in countdic.keys():\n",
    "    keylist.append(i)"
   ]
  },
  {
   "cell_type": "code",
   "execution_count": 4,
   "metadata": {},
   "outputs": [],
   "source": [
    "countkeys = 0\n",
    "keyindex = 0\n",
    "# nested loop\n",
    "for index in range(len(keylist)):\n",
    "    for ele in characterlist:\n",
    "        if ele == keylist[keyindex]:    \n",
    "            countkeys = countkeys + 1\n",
    "        countdic[keylist[keyindex]] = countkeys # writes the value for the appropiate key in the dictionary\n",
    "    countkeys = 0\n",
    "    keyindex = keyindex + 1"
   ]
  },
  {
   "cell_type": "code",
   "execution_count": 5,
   "metadata": {},
   "outputs": [
    {
     "name": "stdout",
     "output_type": "stream",
     "text": [
      "{'5': 1, 'w': 1, '3': 1, '6': 2}\n"
     ]
    }
   ],
   "source": [
    "print(countdic)"
   ]
  },
  {
   "cell_type": "code",
   "execution_count": null,
   "metadata": {},
   "outputs": [],
   "source": []
  }
 ],
 "metadata": {
  "kernelspec": {
   "display_name": "Python 3",
   "language": "python",
   "name": "python3"
  },
  "language_info": {
   "codemirror_mode": {
    "name": "ipython",
    "version": 3
   },
   "file_extension": ".py",
   "mimetype": "text/x-python",
   "name": "python",
   "nbconvert_exporter": "python",
   "pygments_lexer": "ipython3",
   "version": "3.8.3"
  }
 },
 "nbformat": 4,
 "nbformat_minor": 4
}
