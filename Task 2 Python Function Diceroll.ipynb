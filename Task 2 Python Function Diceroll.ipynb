{
 "cells": [
  {
   "cell_type": "markdown",
   "metadata": {},
   "source": [
    "# Task 2 Python Function Diceroll\n",
    "***"
   ]
  },
  {
   "cell_type": "markdown",
   "metadata": {},
   "source": [
    "<br>\n",
    "\n",
    "## Author: Silvio Dunst"
   ]
  },
  {
   "cell_type": "markdown",
   "metadata": {},
   "source": [
    "<br>\n",
    "\n",
    "### Task Description\n",
    "\n",
    "The “dicerolls” function simulates the rolling of dices. The function takes two parameters. Parameter “k” is for the amount of dices and the parameter “n” is for the amount of trails. The “dicerolls” function  simulate randomly rolling “k” dice “n” times and keeping track of each total face value. The function should return a dictionary with the number of times each possible total face value occurred.\n",
    "Calling the function as `diceroll(k=2, n=1000)` should return a dictionary like:\n",
    "`{2:19,3:50,4:82,5:112,6:135,7:174,8:133,9:114,10:75,11:70,12:36}`."
   ]
  },
  {
   "cell_type": "markdown",
   "metadata": {},
   "source": [
    "Insert two arguments for \"k\" the amount of dices and for \"n\" the amount of trials in the function. The function returns a dictionary with the dice faces and how often they occur."
   ]
  },
  {
   "cell_type": "code",
   "execution_count": 5,
   "metadata": {},
   "outputs": [],
   "source": [
    "import numpy as np\n",
    "\n",
    "def dicerolls (k,n):\n",
    "    dicdice = {} # creates a empty dictionary\n",
    "\n",
    "    # Error handling\n",
    "    # check if the k and n variable are Integer numbers\n",
    "    variablecheck = True\n",
    "\n",
    "    # Make sure the k variable is an Integer number\n",
    "    try:\n",
    "        if isinstance(k,int) != True: \n",
    "            print(\"The k value is not a Integer number. Please insert a Integer number!\")\n",
    "            variablecheck = True            \n",
    "    except TypeError:\n",
    "        print(\"The k value is not a Integer number. Please insert a Integer number!\")\n",
    "        variablecheck = True\n",
    "        \n",
    "        \n",
    "    # Make sure the n variable is an Integer\n",
    "    try:\n",
    "        if isinstance(n,int) != True: \n",
    "            print(\"The n value is not a Integer number. Please insert a Integer number!\")\n",
    "            variablecheck = True\n",
    "    except TypeError:\n",
    "        print(\"The n value is not a Integer number. Please insert a Integer number!\")\n",
    "        variablecheck = True\n",
    "\n",
    "    \n",
    "    dicesum = 0 # creates and initialize dicesum variable with 0\n",
    "    dicesumlist = [] # create a empty list variable\n",
    "    for i in range(n): # loops how often the dice will be thrown (trials)\n",
    "        dicesum = 0 # reset the \"dicesum\" variable to 0\n",
    "        for ele in range(k): # loops through the amount of dice\n",
    "            dice = np.random.randint(1,7) # creates random numbers between 1 and 6\n",
    "            dicesum = dicesum + dice # add the dicesfaces together\n",
    "        dicesumlist.append(dicesum) # writes the dice sum to a list what becomes the dictionary keys later\n",
    "        \n",
    "    dicesumlist.sort() # sort the dicesumlist\n",
    "\n",
    "    for i in dicesumlist: # writes the dicesumlist to the dictionary keys with None value\n",
    "        dicdice[i] = None\n",
    "    \n",
    "    # write the dictionary keys to a list\n",
    "    keylist = list()\n",
    "    for i in dicdice.keys():\n",
    "        keylist.append(i)\n",
    "    \n",
    "    countkeys = 0\n",
    "    keyindex = 0\n",
    "        \n",
    "    for i in range(len(keylist)):\n",
    "        for ele in dicesumlist:\n",
    "            if ele == keylist[keyindex]:    \n",
    "                countkeys = countkeys + 1\n",
    "            dicdice[keylist[keyindex]] = countkeys # writes the value for the appropiate key in the dictionary\n",
    "        countkeys = 0\n",
    "        keyindex = keyindex + 1\n",
    "\n",
    "    return dicdice"
   ]
  },
  {
   "cell_type": "code",
   "execution_count": 6,
   "metadata": {},
   "outputs": [
    {
     "data": {
      "text/plain": [
       "{2: 27,\n",
       " 3: 53,\n",
       " 4: 91,\n",
       " 5: 113,\n",
       " 6: 136,\n",
       " 7: 157,\n",
       " 8: 143,\n",
       " 9: 121,\n",
       " 10: 68,\n",
       " 11: 68,\n",
       " 12: 23}"
      ]
     },
     "execution_count": 6,
     "metadata": {},
     "output_type": "execute_result"
    }
   ],
   "source": [
    "dicerolls(k = 2,n = 1000)# the function dicerolls will be count here with the two inputs k and n"
   ]
  },
  {
   "cell_type": "markdown",
   "metadata": {},
   "source": [
    "<br>\n",
    "\n",
    "### Documentation\n",
    "***\n"
   ]
  },
  {
   "cell_type": "markdown",
   "metadata": {},
   "source": [
    "<br>\n",
    "\n",
    "### Python Code Description\n",
    "The function \"dicerolls\" will be created in cell 5 line 3 with the keyword def. The dicerolls function has two arguments/inputs k and n. The \"k\" argument is for the amount of dices and the \"n\" argument of the amount of trials.\n",
    "```python\n",
    "def dicerolls (k,n):\n",
    "```\n",
    "The function return value for the dictionary (dicdice) appears in line 60.\n",
    "```python\n",
    "return(dicdice)\n",
    "```\n",
    "The function will be called in cell 6 in line 1 and the result will be printed in the output of the cell.\n",
    "```python    \n",
    "dicerolls(k = 2,n = 1000)# the function dicerolls will be count here with the two inputs k and n\n",
    "```\n",
    "In line 4 I create an empty dictionary \"dicdice\".\n",
    "```python \n",
    "dicdice = {} # creates a empty dictionary\n",
    "```\n",
    "The variables \"k\" and \"n\" require integer numbers. If the variables are not integer data types the Error handling procedure will be executed. The Error handling procedure is from line 6 until line 27. The “if isinstance(k,int)” function, checks if the \"k\" variable is a Integer number. If the variable is not “!= True:” an Integer data type the Error handling will be executed. . I found the “isinstance” data type check function on the “kite.com/python” website[1].\n",
    "```python\n",
    " # Error handling\n",
    "    # check if the k and n variable are Integer numbers\n",
    "    variablecheck = True\n",
    "\n",
    "    # Make sure the k variable is an Integer number\n",
    "    try:\n",
    "        if isinstance(k,int) != True: \n",
    "            print(\"The k value is not a Integer number. Please insert a Integer number!\")\n",
    "            variablecheck = True            \n",
    "    except TypeError:\n",
    "        print(\"The k value is not a Integer number. Please insert a Integer number!\")\n",
    "        variablecheck = True\n",
    "```\n",
    "The “if isinstance(n,int)” function, checks if the \"n\" variable is a Integer number. If the variable is not “!= True:” an Integer data type the Error handling will be executed. \n",
    "```python        \n",
    "    # Make sure the n variable is an Integer\n",
    "    try:\n",
    "        if isinstance(n,int) != True: \n",
    "            print(\"The n value is not a Integer number. Please insert a Integer number!\")\n",
    "            variablecheck = True\n",
    "    except TypeError:\n",
    "        print(\"The n value is not a Integer number. Please insert a Integer number!\")\n",
    "        variablecheck = True\n",
    "```\n",
    "In line 30 I create an integer variable “dicesum”. The “dicesum” variable will hold how often the diceface appears. In the next line 31 I create a list variables “dicesumlist”. For the next lines I’m using nested loops to get the dicefaces and how often they appear. I’m using for both \"for loops\" the \"range\" function. The first \"for loop\" loops through the amount of trials \"n\". The second loop loops through the dices. After the first trial \"n\" the dicesum variable will be reset to Zero and the second loop will be activated. In the second loop a random number between 1 and 6 will be created and memorized in the variable \"dice\". For the random number generation I use the numpy random randint function. Now the value from the variable \"dice\" will added together in the \"dicesum\" variable in every loop. The second loop executes until the loop reaches the last element. The amount of the loop elements depend on the \"k\" value. The \"k\" variable is the amount of dices. When the second loop has reached the last element the \"dicesum\" value will be added to the \"dicesumlist\" variable. This process will be repeated until all the elements (trials \"n\") in the first loop are executed.\n",
    "```python\n",
    "    dicesum = 0 # creates and initialize dicesum variable with 0\n",
    "    dicesumlist = [] # create a empty list variable\n",
    "    for i in range(n): # loops how often the dice will be thrown (trials)\n",
    "        dicesum = 0 # reset the \"dicesum\" variable to 0\n",
    "        for ele in range(k): # loops through the amount of dice\n",
    "            dice = np.random.randint(1,7) # creates random numbers between 1 and 6\n",
    "            dicesum = dicesum + dice # add the dicesfaces together\n",
    "        dicesumlist.append(dicesum) # writes the dice sum to a list what becomes the dictionary keys later\n",
    "```\n",
    "When all the trials are finished the values from the \"dicesumlist\" will put in order from the smallest to the largest value with the \"sort\" function \n",
    "```python\n",
    "dicesumlist.sort() # sort the dicesumlist\n",
    "```\n",
    "In line 41 I use a \"for loop\" to put the values from the dicesumlist in to a dictionary \"dicdice\". The values become the keys and the new values for the keys will be None. I adapted the code what I found on the \"geeksforgeeks\" website[2].\n",
    "```python\n",
    "for i in dicesumlist:\n",
    "    dicdice[i] = None\n",
    "```\n",
    "Next I create a new list called \"keylist\". I use a \"for loop\" to read out the new dictionary keys from the \"dicdice\" dictionary. The dictionary keys will be added in the \"keylist\". I found some code on the \"geeksforgeeks\" website [3] what I adapted for my purpose.\n",
    "```python\n",
    "keylist = list()\n",
    "for i in dicdice.keys():\n",
    "    keylist.append(i)\n",
    "```\n",
    "In the nested \"for loop\" I count the occurrence of an element in a list. I create two empty variables \"countkeys\" and \"keyindex\". I found some ideas on the \"geeksforgeeks\" website[4]. In the first loop when the first element (dictionary key) appears, the next for loop will be activated. The second loop goes through all the elements of the \"dicesumlist\" variable. If characters are the same in dicesumlist as first value in the keylist (dictionary key) the values will be counted in the \"countkey\" variable. In every loop a new count value from the \"countkeys\" variable will be added to the dictionary key as a dictionary value. When all the \"dicesumlist\" elements are looped through the countkeys variable will reset to 0 and the index for the dictionary key (keyindex) will be increased by 1. I adapted some code out of the \"A Whirlwind Tour of Python Page 36\" book [5].The code jumps back now to the first loop again. The process repeats until all the elements in the keylist are looped through.   \n",
    "```python\n",
    "countkeys = 0\n",
    "keyindex = 0 \n",
    "\n",
    "for i in range(len(keylist)):\n",
    "        for ele in dicesumlist:\n",
    "            if ele == keylist[keyindex]:    \n",
    "                countkeys = countkeys + 1\n",
    "            dicdice[keylist[keyindex]] = countkeys # writes the value for the appropiate key in the dictionary\n",
    "        countkeys = 0\n",
    "        keyindex = keyindex + 1\n",
    "```\n",
    "***"
   ]
  },
  {
   "cell_type": "markdown",
   "metadata": {},
   "source": [
    "<br>\n",
    "\n",
    "## Reference\n",
    "***"
   ]
  },
  {
   "cell_type": "markdown",
   "metadata": {},
   "source": [
    "[1] :  https://www.kite.com/python/answers/how-to-check-if-a-variable-is-an-integer-in-python\n",
    "\n",
    "[2] :  https://www.geeksforgeeks.org/python-initialize-a-dictionary-with-only-keys-from-a-list/?ref=lbp\n",
    "\n",
    "[3] :  https://www.geeksforgeeks.org/python-get-dictionary-keys-as-a-list/?ref=lbp\n",
    "\n",
    "[4] :  https://www.geeksforgeeks.org/python-count-occurrences-element-list/\n",
    "\n",
    "[5] :  A Whirlwind Tour of Python by Jake VanderPlas"
   ]
  },
  {
   "cell_type": "markdown",
   "metadata": {},
   "source": [
    "<br>\n",
    "\n",
    "## End\n",
    "***\n"
   ]
  }
 ],
 "metadata": {
  "kernelspec": {
   "display_name": "Python 3",
   "language": "python",
   "name": "python3"
  },
  "language_info": {
   "codemirror_mode": {
    "name": "ipython",
    "version": 3
   },
   "file_extension": ".py",
   "mimetype": "text/x-python",
   "name": "python",
   "nbconvert_exporter": "python",
   "pygments_lexer": "ipython3",
   "version": "3.8.3"
  }
 },
 "nbformat": 4,
 "nbformat_minor": 4
}
