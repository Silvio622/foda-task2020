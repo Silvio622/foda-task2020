{
 "cells": [
  {
   "cell_type": "markdown",
   "metadata": {},
   "source": [
    "<br>\n",
    "\n",
    "# Tasks for Fundamentals of Data Analysis\n",
    "***"
   ]
  },
  {
   "cell_type": "markdown",
   "metadata": {},
   "source": [
    "### Author: Silvio Dunst"
   ]
  },
  {
   "cell_type": "markdown",
   "metadata": {},
   "source": [
    "<br>\n",
    "\n",
    "# Task 1 Python Function Count\n",
    "***"
   ]
  },
  {
   "cell_type": "markdown",
   "metadata": {},
   "source": [
    "<br>\n",
    "\n",
    "### Task Description\n",
    "A Python function called counts that takes a list as input and returns a dictionary of unique items\n",
    "in the list as keys and the number of times each item appears as values.\n",
    "Example: the input ['A','A','B','A','C']\n",
    "should have an output {'A': 3, 'B': 1, 'C': 1}\n",
    "***"
   ]
  },
  {
   "cell_type": "markdown",
   "metadata": {},
   "source": [
    "Insert some Characters and the function will count the amount of the same characters "
   ]
  },
  {
   "cell_type": "code",
   "execution_count": 1,
   "metadata": {},
   "outputs": [],
   "source": [
    "def count():\n",
    "# User character Input\n",
    "    characterlist =[] # create an empty list variable\n",
    "    countdic = {} # create an empty dictionary variable\n",
    "    characterInput = '' # create an empty string variable\n",
    "\n",
    "# Insert a character for the first time \n",
    "    characterInput = input(str('Insert a single character or type stop to finish: '))\n",
    "    if characterInput != 'stop':\n",
    "        print(characterInput)\n",
    "        if len(characterInput) == 1 :\n",
    "            characterlist.append(characterInput)\n",
    "        elif len(characterInput) > 1 and not 'stop':\n",
    "            print('You did insert more than one character')\n",
    "    \n",
    "# Insert more characters until \"stop\" will be inserted\n",
    "        while characterInput != 'stop':    \n",
    "            characterInput = input(str('Insert a single character or type stop to finish: '))\n",
    "            print(characterInput)\n",
    "            if len(characterInput) == 1 :\n",
    "                characterlist.append(characterInput)\n",
    "            elif len(characterInput) > 1 and not 'stop' : \n",
    "                print('You did insert more than one character')\n",
    "                \n",
    "# writes the character values from the characterlist to the dictionary \"countdic\" as the keys with the values \"None\"   \n",
    "        for i in characterlist:\n",
    "            countdic[i] = None\n",
    "     \n",
    "    \n",
    "# write the dictionary keys to a list\n",
    "        keylist = list()\n",
    "        for i in countdic.keys():\n",
    "            keylist.append(i)\n",
    "\n",
    "# nested loop to count the occurrences of an element in a list \n",
    "        countkeys = 0\n",
    "        keyindex = 0 \n",
    "        for index in range(len(keylist)):\n",
    "            for ele in characterlist:\n",
    "                if ele == keylist[keyindex]:    \n",
    "                    countkeys = countkeys + 1\n",
    "                countdic[keylist[keyindex]] = countkeys # writes the value for the appropriate key in the dictionary\n",
    "            countkeys = 0\n",
    "            keyindex = keyindex + 1\n",
    "                \n",
    "    else:\n",
    "        print('You did insert stop to finsh') \n",
    "    return(countdic)\n",
    " "
   ]
  },
  {
   "cell_type": "code",
   "execution_count": 2,
   "metadata": {},
   "outputs": [
    {
     "name": "stdout",
     "output_type": "stream",
     "text": [
      "Insert a single character or type stop to finish: a\n",
      "a\n",
      "Insert a single character or type stop to finish: a\n",
      "a\n",
      "Insert a single character or type stop to finish: stop\n",
      "stop\n",
      "You insert the following 'characters': x times: {'a': 2}\n"
     ]
    }
   ],
   "source": [
    "characterInput = count()# the function \"count\" will be called here with the input from the User in characterInput\n",
    "print(\"You insert the following 'characters': x times: {}\".format(characterInput))"
   ]
  },
  {
   "cell_type": "markdown",
   "metadata": {},
   "source": [
    "<br>\n",
    "\n",
    "### Documentation\n",
    "***"
   ]
  },
  {
   "cell_type": "markdown",
   "metadata": {},
   "source": [
    "##### **Python Code Description**\n",
    "The function Count will be created in cell 5 line 1 with the keyword def.\n",
    "```python\n",
    "def count():\n",
    "```\n",
    "The function return value for the dictionary (countdic) appears in line 48.\n",
    "```python\n",
    "return(countdic)\n",
    "```\n",
    "The function will be called in cell 6 in line 1 and the result will be printed in line 2.\n",
    "```python    \n",
    "characterInput = count()# the function Count will be called here with the input from the User in characterInput\n",
    "print(characterInput)\n",
    "```\n",
    "\n",
    "##### **Cell 1 User Input**\n",
    "Create three variables \"characterlist\", \"countdic\" and \"characterInput\". In line 8 the user input will be converted to a string. If the input is \"stop\" the function will be terminated in line 46. In line 11 the user input will be checked for the amount of characters. If the user input has only one character the character goes in the characterlist otherwise the message appears \"You did insert more than on character\". The same code will be executed in the \"while loop\" from line 17 to line 23.\n",
    "\n",
    "```python\n",
    "# User character Input\n",
    "characterlist =[] # create an empty list variable\n",
    "countdic = {} # create an empty dictionary variable\n",
    "characterInput = '' # create an empty string variable\n",
    "\n",
    "# Insert a character for the first time \n",
    "characterInput = input(str('Insert a single character or type stop to finish: '))\n",
    "if characterInput != 'stop':\n",
    "    print(characterInput)\n",
    "    if len(characterInput) == 1 :\n",
    "        characterlist.append(characterInput)\n",
    "    elif len(characterInput) > 1 and not 'stop':\n",
    "        print('You did insert more than one character')\n",
    "```\n",
    "In line 25 I use a \"for loop\" to put the characters from the characterlist in to a dictionary \"countdic\". The characters become the keys. The value will be None. I adapted the code what I found on the \"geeksforgeeks\" website[1].\n",
    "```python\n",
    "for i in characterlist:\n",
    "    countdic[i] = None\n",
    "```\n",
    "Next I create a new list called \"keylist\". I use a \"for loop\" to read out the new dictionary keys from the \"countdic\" dictionary. The dictionary keys will be added in the \"keylist\". I found some code on the \"geeksforgeeks\" website [2] what I adapted for my purpose.\n",
    "```python\n",
    "keylist = list()\n",
    "for i in countdic.keys():\n",
    "    keylist.append(i)\n",
    "```\n",
    "In the nested \"for loop\" I count the occurrence of an element in a list. I create two empty variables \"countkeys\" and \"keyindex\". I found some ideas on the \"geeksforgeeks\" website[3]. In the first loop when the first element (dictionary key) appears, the next for loop will be activated. The second loop goes through all the elements of the characterlist. If characters are the same in characterlist as first character in the keylist (dictionary key) the characters will be counted in the \"countkey\" variable. In every loop a new count value from the \"countkeys\" variable will be added to the dictionary key as a dictionary value. When all the characterlist elements are looped through the countkeys variable will reset to 0 and the index for the dictionary key (keyindex) will be increased by 1. I adapted some code out of the \"A Whirlwind Tour of Python Page 36\" book [4].The code jumps back now to the first loop again. The process repeats until all the elements in the keylist are looped through.   \n",
    "```python\n",
    "countkeys = 0\n",
    "keyindex = 0 \n",
    "for index in range(len(keylist)):\n",
    "    for ele in characterlist:\n",
    "        if ele == keylist[keyindex]:    \n",
    "            countkeys = countkeys + 1\n",
    "        countdic[keylist[keyindex]] = countkeys # writes the value for the appropriate key in the    dictionary\n",
    "    countkeys = 0\n",
    "    keyindex = keyindex + 1\n",
    "```\n"
   ]
  },
  {
   "cell_type": "markdown",
   "metadata": {},
   "source": [
    "<br>\n",
    "\n",
    "## Reference\n",
    "***"
   ]
  },
  {
   "cell_type": "markdown",
   "metadata": {},
   "source": [
    "[1] :  https://www.geeksforgeeks.org/python-initialize-a-dictionary-with-only-keys-from-a-list/?ref=lbp\n",
    "\n",
    "[2] :  https://www.geeksforgeeks.org/python-get-dictionary-keys-as-a-list/?ref=lbp\n",
    "\n",
    "[3] :  https://www.geeksforgeeks.org/python-count-occurrences-element-list/\n",
    "\n",
    "[4] :  A Whirlwind Tour of Python by Jake VanderPlas"
   ]
  },
  {
   "cell_type": "markdown",
   "metadata": {},
   "source": [
    "<br>\n",
    "\n",
    "## End Task 1 Python Function Count\n",
    "***"
   ]
  },
  {
   "cell_type": "markdown",
   "metadata": {},
   "source": [
    "<br>\n",
    "\n",
    "# Task 2 Python Function Diceroll\n",
    "***"
   ]
  },
  {
   "cell_type": "markdown",
   "metadata": {},
   "source": [
    "<br>\n",
    "\n",
    "### Task Description\n",
    "\n",
    "The “dicerolls” function simulates the rolling of dices. The function takes two parameters. Parameter “k” is for the amount of dices and the parameter “n” is for the amount of trails. The “dicerolls” function  simulate randomly rolling “k” dice “n” times and keeping track of each total face value. The function should return a dictionary with the number of times each possible total face value occurred.\n",
    "Calling the function as `diceroll(k=2, n=1000)` should return a dictionary like:\n",
    "`{2:19,3:50,4:82,5:112,6:135,7:174,8:133,9:114,10:75,11:70,12:36}`."
   ]
  },
  {
   "cell_type": "markdown",
   "metadata": {},
   "source": [
    "Insert two arguments for \"k\" the amount of dices and for \"n\" the amount of trials in the function. The function returns a dictionary with the dice faces and how often they occur."
   ]
  },
  {
   "cell_type": "code",
   "execution_count": 3,
   "metadata": {},
   "outputs": [],
   "source": [
    "import numpy as np\n",
    "\n",
    "def dicerolls (k,n):\n",
    "    dicdice = {} # creates a empty dictionary\n",
    "\n",
    "    # Error handling\n",
    "    # check if the k and n variable are Integer numbers\n",
    "    variablecheck = True\n",
    "\n",
    "    # Make sure the k variable is an Integer number\n",
    "    try:\n",
    "        if isinstance(k,int) != True: \n",
    "            print(\"The k value is not a Integer number. Please insert a Integer number!\")\n",
    "            variablecheck = True            \n",
    "    except TypeError:\n",
    "        print(\"The k value is not a Integer number. Please insert a Integer number!\")\n",
    "        variablecheck = True\n",
    "        \n",
    "        \n",
    "    # Make sure the n variable is an Integer\n",
    "    try:\n",
    "        if isinstance(n,int) != True: \n",
    "            print(\"The n value is not a Integer number. Please insert a Integer number!\")\n",
    "            variablecheck = True\n",
    "    except TypeError:\n",
    "        print(\"The n value is not a Integer number. Please insert a Integer number!\")\n",
    "        variablecheck = True\n",
    "\n",
    "    \n",
    "    dicesum = 0 # creates and initialize dicesum variable with 0\n",
    "    dicesumlist = [] # create a empty list variable\n",
    "    for i in range(n): # loops how often the dice will be thrown (trials)\n",
    "        dicesum = 0 # reset the \"dicesum\" variable to 0\n",
    "        for ele in range(k): # loops through the amount of dice\n",
    "            dice = np.random.randint(1,7) # creates random numbers between 1 and 6\n",
    "            dicesum = dicesum + dice # add the dicesfaces together\n",
    "        dicesumlist.append(dicesum) # writes the dice sum to a list what becomes the dictionary keys later\n",
    "        \n",
    "    dicesumlist.sort() # sort the dicesumlist\n",
    "\n",
    "    for i in dicesumlist: # writes the dicesumlist to the dictionary keys with None value\n",
    "        dicdice[i] = None\n",
    "    \n",
    "    # write the dictionary keys to a list\n",
    "    keylist = list()\n",
    "    for i in dicdice.keys():\n",
    "        keylist.append(i)\n",
    "    \n",
    "    countkeys = 0\n",
    "    keyindex = 0\n",
    "        \n",
    "    for i in range(len(keylist)):\n",
    "        for ele in dicesumlist:\n",
    "            if ele == keylist[keyindex]:    \n",
    "                countkeys = countkeys + 1\n",
    "            dicdice[keylist[keyindex]] = countkeys # writes the value for the appropiate key in the dictionary\n",
    "        countkeys = 0\n",
    "        keyindex = keyindex + 1\n",
    "\n",
    "    return dicdice"
   ]
  },
  {
   "cell_type": "code",
   "execution_count": 4,
   "metadata": {},
   "outputs": [
    {
     "data": {
      "text/plain": [
       "{2: 33,\n",
       " 3: 62,\n",
       " 4: 72,\n",
       " 5: 108,\n",
       " 6: 129,\n",
       " 7: 175,\n",
       " 8: 146,\n",
       " 9: 113,\n",
       " 10: 76,\n",
       " 11: 55,\n",
       " 12: 31}"
      ]
     },
     "execution_count": 4,
     "metadata": {},
     "output_type": "execute_result"
    }
   ],
   "source": [
    "dicerolls(k = 2,n = 1000)# the function dicerolls will be count here with the two inputs k and n"
   ]
  },
  {
   "cell_type": "markdown",
   "metadata": {},
   "source": [
    "<br>\n",
    "\n",
    "### Documentation\n",
    "***"
   ]
  },
  {
   "cell_type": "markdown",
   "metadata": {},
   "source": [
    "<br>\n",
    "\n",
    "### Python Code Description\n",
    "In the Python code the numpy package will be impotred\n",
    "```python\n",
    "import numpy as np\n",
    "```\n",
    "\n",
    "The function \"dicerolls\" will be created in cell 5 line 3 with the keyword def. The dicerolls function has two arguments/inputs k and n. The \"k\" argument is for the amount of dices and the \"n\" argument of the amount of trials.\n",
    "```python\n",
    "def dicerolls (k,n):\n",
    "```\n",
    "The function return value for the dictionary (dicdice) appears in line 60.\n",
    "```python\n",
    "return(dicdice)\n",
    "```\n",
    "The function will be called in cell 6 in line 1 and the result will be printed in the output of the cell.\n",
    "```python    \n",
    "dicerolls(k = 2,n = 1000)# the function dicerolls will be count here with the two inputs k and n\n",
    "```\n",
    "In line 4 I create an empty dictionary \"dicdice\".\n",
    "```python \n",
    "dicdice = {} # creates a empty dictionary\n",
    "```\n",
    "The variables \"k\" and \"n\" require integer numbers. If the variables are not integer data types the Error handling procedure will be executed. The Error handling procedure is from line 6 until line 27. The “if isinstance(k,int)” function, checks if the \"k\" variable is a Integer number. If the variable is not “!= True:” an Integer data type the Error handling will be executed. . I found the “isinstance” data type check function on the “kite.com/python” website[1].\n",
    "```python\n",
    " # Error handling\n",
    "    # check if the k and n variable are Integer numbers\n",
    "    variablecheck = True\n",
    "\n",
    "    # Make sure the k variable is an Integer number\n",
    "    try:\n",
    "        if isinstance(k,int) != True: \n",
    "            print(\"The k value is not a Integer number. Please insert a Integer number!\")\n",
    "            variablecheck = True            \n",
    "    except TypeError:\n",
    "        print(\"The k value is not a Integer number. Please insert a Integer number!\")\n",
    "        variablecheck = True\n",
    "```\n",
    "The “if isinstance(n,int)” function, checks if the \"n\" variable is a Integer number. If the variable is not “!= True:” an Integer data type the Error handling will be executed. \n",
    "```python        \n",
    "    # Make sure the n variable is an Integer\n",
    "    try:\n",
    "        if isinstance(n,int) != True: \n",
    "            print(\"The n value is not a Integer number. Please insert a Integer number!\")\n",
    "            variablecheck = True\n",
    "    except TypeError:\n",
    "        print(\"The n value is not a Integer number. Please insert a Integer number!\")\n",
    "        variablecheck = True\n",
    "```\n",
    "In line 30 I create an integer variable “dicesum”. The “dicesum” variable will hold how often the diceface appears. In the next line 31 I create a list variables “dicesumlist”. For the next lines I’m using nested loops to get the dicefaces and how often they appear. I’m using for both \"for loops\" the \"range\" function. The first \"for loop\" loops through the amount of trials \"n\". The second loop loops through the dices. After the first trial \"n\" the dicesum variable will be reset to Zero and the second loop will be activated. In the second loop a random number between 1 and 6 will be created and memorized in the variable \"dice\". For the random number generation I use the numpy random randint function. Now the value from the variable \"dice\" will added together in the \"dicesum\" variable in every loop. The second loop executes until the loop reaches the last element. The amount of the loop elements depend on the \"k\" value. The \"k\" variable is the amount of dices. When the second loop has reached the last element the \"dicesum\" value will be added to the \"dicesumlist\" variable. This process will be repeated until all the elements (trials \"n\") in the first loop are executed.\n",
    "```python\n",
    "    dicesum = 0 # creates and initialize dicesum variable with 0\n",
    "    dicesumlist = [] # create a empty list variable\n",
    "    for i in range(n): # loops how often the dice will be thrown (trials)\n",
    "        dicesum = 0 # reset the \"dicesum\" variable to 0\n",
    "        for ele in range(k): # loops through the amount of dice\n",
    "            dice = np.random.randint(1,7) # creates random numbers between 1 and 6\n",
    "            dicesum = dicesum + dice # add the dicesfaces together\n",
    "        dicesumlist.append(dicesum) # writes the dice sum to a list what becomes the dictionary keys later\n",
    "```\n",
    "When all the trials are finished the values from the \"dicesumlist\" will put in order from the smallest to the largest value with the \"sort\" function \n",
    "```python\n",
    "dicesumlist.sort() # sort the dicesumlist\n",
    "```\n",
    "In line 41 I use a \"for loop\" to put the values from the dicesumlist in to a dictionary \"dicdice\". The values become the keys and the new values for the keys will be None. I adapted the code what I found on the \"geeksforgeeks\" website[2].\n",
    "```python\n",
    "for i in dicesumlist:\n",
    "    dicdice[i] = None\n",
    "```\n",
    "Next I create a new list called \"keylist\". I use a \"for loop\" to read out the new dictionary keys from the \"dicdice\" dictionary. The dictionary keys will be added in the \"keylist\". I found some code on the \"geeksforgeeks\" website [3] what I adapted for my purpose.\n",
    "```python\n",
    "keylist = list()\n",
    "for i in dicdice.keys():\n",
    "    keylist.append(i)\n",
    "```\n",
    "In the nested \"for loop\" I count the occurrence of an element in a list. I create two empty variables \"countkeys\" and \"keyindex\". I found some ideas on the \"geeksforgeeks\" website[4]. In the first loop when the first element (dictionary key) appears, the next for loop will be activated. The second loop goes through all the elements of the \"dicesumlist\" variable. If characters are the same in dicesumlist as first value in the keylist (dictionary key) the values will be counted in the \"countkey\" variable. In every loop a new count value from the \"countkeys\" variable will be added to the dictionary key as a dictionary value. When all the \"dicesumlist\" elements are looped through the countkeys variable will reset to 0 and the index for the dictionary key (keyindex) will be increased by 1. I adapted some code out of the \"A Whirlwind Tour of Python Page 36\" book [5].The code jumps back now to the first loop again. The process repeats until all the elements in the keylist are looped through.   \n",
    "```python\n",
    "countkeys = 0\n",
    "keyindex = 0 \n",
    "\n",
    "for i in range(len(keylist)):\n",
    "        for ele in dicesumlist:\n",
    "            if ele == keylist[keyindex]:    \n",
    "                countkeys = countkeys + 1\n",
    "            dicdice[keylist[keyindex]] = countkeys # writes the value for the appropiate key in the dictionary\n",
    "        countkeys = 0\n",
    "        keyindex = keyindex + 1\n",
    "```\n",
    "***"
   ]
  },
  {
   "cell_type": "markdown",
   "metadata": {},
   "source": [
    "<br>\n",
    "\n",
    "## Reference\n",
    "***"
   ]
  },
  {
   "cell_type": "markdown",
   "metadata": {},
   "source": [
    "[1] :  https://www.kite.com/python/answers/how-to-check-if-a-variable-is-an-integer-in-python\n",
    "\n",
    "[2] :  https://www.geeksforgeeks.org/python-initialize-a-dictionary-with-only-keys-from-a-list/?ref=lbp\n",
    "\n",
    "[3] :  https://www.geeksforgeeks.org/python-get-dictionary-keys-as-a-list/?ref=lbp\n",
    "\n",
    "[4] :  https://www.geeksforgeeks.org/python-count-occurrences-element-list/\n",
    "\n",
    "[5] :  A Whirlwind Tour of Python by Jake VanderPlas"
   ]
  },
  {
   "cell_type": "markdown",
   "metadata": {},
   "source": [
    "<br>\n",
    "\n",
    "## End Task 2 Python Function Diceroll\n",
    "***"
   ]
  },
  {
   "cell_type": "markdown",
   "metadata": {},
   "source": [
    "<br>\n",
    "\n",
    "# Task 3 Flipping a Coin\n",
    "***"
   ]
  },
  {
   "cell_type": "markdown",
   "metadata": {},
   "source": [
    "<br>\n",
    "\n",
    "### Task Description\n",
    "The Python code below simulates a flipping coin 100 or 1000 times. The amount of simulation can be changed in the variable “totaltrails” at the beginning of the python code. The python code keeps track on each coin head per simulation. The result of the simulation will be plotted in a bar plot.\n",
    "***"
   ]
  },
  {
   "cell_type": "markdown",
   "metadata": {},
   "source": [
    "<br>\n",
    "\n",
    "### Explanation of the Task\n",
    "The plot shows the probability of flipped coin heads per sample. Each sample has 10 trials in it. The greater the sample size or amount of samples the more the bar plot takes the shape of a bell curve. The centre of the plot shows the chance or probability of the flipped coin head appears by 10 trials. The coin heads appear mostly between 5 and 6 times per 10 trials or sample. The chance to have less coin heads per 10 trials is decreasing further and further. It is shown on the left side of plot. The bar length becomes shorter. The chance to have more coin heads per 10 trials is decreasing further and further as well. It is shown on the right side of plot. The bar length becomes shorter. The chance or probability to have 10 coin heads or 10 coin tails is very slim.\n",
    "***"
   ]
  },
  {
   "cell_type": "code",
   "execution_count": 5,
   "metadata": {},
   "outputs": [
    {
     "name": "stdout",
     "output_type": "stream",
     "text": [
      "The total flip results for 1000 trials are showing here. One is for coin heads and 0 for coin tails: [1, 1, 0, 1, 0, 0, 1, 1, 1, 0, 0, 1, 0, 0, 0, 0, 1, 1, 0, 0, 1, 1, 0, 1, 1, 1, 1, 1, 0, 0, 1, 1, 0, 1, 1, 1, 1, 1, 1, 0, 1, 0, 1, 1, 1, 0, 1, 0, 1, 1, 0, 1, 0, 0, 0, 0, 0, 0, 0, 1, 1, 1, 0, 0, 1, 1, 0, 1, 1, 0, 1, 1, 0, 1, 1, 1, 0, 0, 0, 0, 0, 1, 0, 0, 1, 0, 1, 1, 1, 0, 0, 1, 1, 1, 1, 1, 0, 1, 0, 1, 0, 1, 1, 0, 0, 1, 0, 1, 1, 1, 0, 1, 0, 1, 1, 0, 0, 0, 1, 1, 0, 1, 1, 0, 0, 1, 0, 1, 1, 0, 1, 1, 1, 0, 0, 1, 1, 0, 1, 0, 1, 0, 0, 0, 1, 0, 0, 1, 0, 1, 0, 1, 1, 0, 1, 0, 1, 0, 1, 0, 1, 1, 0, 0, 0, 1, 0, 0, 1, 1, 0, 1, 0, 0, 1, 0, 1, 0, 0, 1, 0, 0, 1, 1, 1, 1, 1, 1, 0, 0, 1, 1, 1, 0, 1, 0, 1, 0, 0, 0, 0, 0, 0, 1, 1, 0, 1, 0, 1, 1, 0, 0, 0, 1, 1, 1, 1, 1, 1, 0, 1, 0, 0, 0, 0, 0, 0, 0, 1, 1, 0, 0, 0, 1, 0, 0, 0, 1, 0, 1, 1, 0, 1, 1, 0, 0, 1, 1, 1, 0, 1, 1, 0, 1, 1, 0, 0, 0, 0, 1, 1, 0, 0, 1, 0, 1, 1, 1, 0, 1, 1, 0, 1, 1, 1, 0, 1, 0, 1, 1, 0, 1, 0, 0, 1, 1, 1, 0, 0, 1, 0, 0, 0, 0, 1, 1, 1, 0, 1, 1, 1, 1, 1, 0, 1, 0, 0, 1, 1, 1, 1, 0, 1, 0, 0, 1, 1, 1, 1, 0, 1, 1, 1, 1, 0, 1, 0, 1, 0, 1, 0, 1, 1, 0, 0, 0, 1, 0, 1, 1, 0, 0, 0, 0, 1, 0, 0, 1, 0, 1, 0, 0, 1, 1, 0, 0, 0, 1, 1, 0, 1, 0, 1, 0, 1, 1, 1, 0, 0, 0, 0, 0, 0, 0, 0, 0, 1, 1, 0, 0, 0, 1, 0, 0, 1, 0, 0, 0, 0, 0, 1, 0, 1, 0, 0, 1, 0, 1, 0, 1, 0, 1, 0, 0, 0, 1, 0, 0, 0, 0, 1, 1, 0, 1, 0, 1, 0, 0, 1, 0, 0, 1, 0, 0, 1, 0, 0, 1, 0, 0, 1, 0, 0, 0, 1, 0, 1, 1, 1, 0, 1, 1, 1, 1, 0, 1, 1, 1, 1, 0, 0, 0, 0, 1, 1, 1, 1, 0, 0, 1, 1, 0, 0, 0, 0, 0, 0, 0, 1, 1, 0, 0, 1, 0, 1, 0, 1, 0, 0, 1, 1, 0, 1, 0, 0, 0, 0, 0, 0, 1, 1, 1, 1, 1, 1, 1, 1, 0, 1, 1, 1, 1, 1, 0, 0, 1, 0, 1, 1, 0, 0, 0, 0, 1, 1, 1, 0, 0, 0, 1, 1, 0, 0, 1, 0, 1, 0, 1, 1, 1, 1, 1, 1, 0, 1, 0, 1, 0, 0, 1, 0, 0, 0, 0, 1, 0, 1, 1, 1, 1, 0, 1, 1, 0, 1, 1, 0, 0, 0, 0, 1, 0, 1, 1, 0, 0, 0, 0, 0, 1, 0, 1, 1, 0, 1, 0, 1, 1, 1, 0, 1, 0, 0, 1, 0, 1, 0, 0, 0, 1, 0, 1, 1, 1, 1, 0, 1, 1, 0, 0, 1, 0, 0, 1, 0, 0, 0, 0, 0, 1, 0, 1, 1, 1, 0, 1, 1, 0, 0, 0, 0, 1, 1, 0, 1, 1, 0, 1, 1, 0, 0, 0, 0, 0, 1, 1, 1, 1, 0, 1, 0, 1, 0, 0, 1, 0, 0, 1, 1, 1, 0, 1, 0, 0, 1, 1, 0, 0, 1, 1, 0, 0, 0, 0, 1, 1, 1, 0, 1, 1, 0, 1, 1, 0, 0, 1, 1, 1, 0, 1, 1, 1, 1, 0, 0, 1, 0, 1, 1, 0, 0, 0, 1, 0, 1, 1, 0, 0, 1, 1, 0, 0, 0, 0, 0, 0, 0, 0, 0, 0, 0, 1, 0, 1, 1, 0, 1, 1, 1, 0, 1, 1, 1, 0, 0, 0, 1, 1, 0, 1, 1, 0, 1, 0, 1, 0, 0, 1, 1, 1, 1, 1, 1, 0, 0, 1, 0, 1, 0, 0, 0, 1, 0, 1, 1, 0, 0, 1, 0, 0, 1, 0, 0, 1, 1, 1, 0, 0, 1, 1, 1, 0, 0, 1, 1, 1, 1, 0, 0, 0, 1, 1, 0, 0, 1, 1, 1, 1, 1, 0, 0, 0, 0, 1, 0, 1, 0, 1, 0, 1, 0, 0, 1, 0, 1, 1, 1, 1, 0, 1, 0, 0, 0, 0, 1, 0, 0, 1, 1, 1, 1, 1, 0, 1, 1, 1, 0, 1, 0, 0, 1, 1, 1, 0, 0, 0, 0, 0, 1, 1, 0, 0, 0, 1, 0, 0, 0, 0, 1, 1, 0, 0, 1, 1, 1, 1, 1, 1, 1, 1, 0, 1, 0, 0, 1, 1, 1, 1, 0, 0, 1, 1, 0, 0, 1, 1, 1, 0, 0, 0, 0, 1, 0, 1, 0, 1, 1, 0, 0, 0, 1, 0, 0, 1, 1, 1, 0, 1, 0, 1, 1, 1, 0, 1, 1, 1, 0, 0, 0, 1, 1, 0, 1, 1, 1, 0, 1, 0, 0, 0, 0, 0, 0, 1, 0, 0, 0, 0, 1, 0, 0, 0, 1, 1, 1, 1, 0, 0, 0, 0, 1, 1, 1, 0, 0, 1, 1, 1, 0, 0, 1, 1, 0, 1, 1, 0, 0, 0, 1, 1, 1, 0, 1, 1, 0, 1, 1, 0, 0, 0, 0, 0, 1, 0, 0, 0, 1, 1, 0, 1, 1, 0, 1, 1, 1, 0, 0, 0, 0, 0, 0, 0, 0, 0, 1, 1, 1, 0, 0, 1]\n"
     ]
    },
    {
     "data": {
      "image/png": "[encoded data removed]",
      "text/plain": [
       "<Figure size 1008x720 with 1 Axes>"
      ]
     },
     "metadata": {},
     "output_type": "display_data"
    }
   ],
   "source": [
    "import numpy as np\n",
    "import matplotlib.pyplot as plt\n",
    "\n",
    "\n",
    "# The Total amount of Trials\n",
    "totaltrials = 1000\n",
    "\n",
    "\n",
    "# Creating integer variables and variable from type list[]\n",
    "samplesize = 0\n",
    "flipresultlist = []\n",
    "outcomelist = []\n",
    "listflipresultlist = []\n",
    "totalflipresult =[]\n",
    "simulations = []\n",
    "simulationlist = []\n",
    "xaxistrials = 0\n",
    "xaxistrialslist =[]\n",
    "\n",
    "\n",
    "# split the total trials into 10 trials section and samples\n",
    "if totaltrials == 1000:\n",
    "    trials = int(totaltrials/100)\n",
    "    samplesize = int(totaltrials / 10)\n",
    "elif totaltrials == 100:\n",
    "    trials = int(totaltrials/10)\n",
    "    samplesize = int(totaltrials / 10)\n",
    "    \n",
    "\n",
    "for i in range(samplesize):\n",
    "    for ele in range(trials):\n",
    "        flipresult = np.random.binomial(1,0.5)# random head flips per one trial with a probability of 0.5 = 50%\n",
    "        flipresultlist.append(flipresult)# put the flip results in a list     \n",
    "        totalflipresult.append(flipresult)# tracks the total flip results\n",
    "        \n",
    "    outcome = sum(flipresultlist)# calculate the sum of the resultlist (how many ones how many heads we flipped)       \n",
    "    outcomelist.append(outcome)# put the sum of heads flipped in to a list \"outcomelist\"\n",
    "    flipresultlist.clear()# clear the flipresultlist     \n",
    "\n",
    "\n",
    "for elements in range(trials):   \n",
    "    simulations = np.equal(outcomelist,elements).mean()\n",
    "    simulationlist.append(simulations)\n",
    "    xaxistrials = xaxistrials + 1 # shows the amount of trials on the x axis of the plot\n",
    "    xaxistrialslist.append(xaxistrials) # put the amount of trials in to a list\n",
    "\n",
    "# Prints out the result of every trail\n",
    "print(\"The total flip results for {} trials are showing here. One is for coin heads and 0 for coin tails: {}\" .format(totaltrials,totalflipresult))\n",
    " \n",
    "\n",
    "# Plotting of the Trials\n",
    "plt.style.use('ggplot') # global parameters for pyplot for \"ggplot\" plot style\n",
    "plt.rcParams['figure.figsize'] = 14, 10 # global parameters for pyplot increase the plot size\n",
    "\n",
    "plt.subplot(1,1,1)\n",
    "plt.bar(xaxistrialslist,simulationlist,color = 'b')\n",
    "plt.title('Probability of Coin Heads per {} trials'.format(totaltrials))\n",
    "plt.xlabel('Coin Heads per Sample')\n",
    "plt.ylabel('Probability of Coin Heads')\n",
    "plt.show()\n"
   ]
  },
  {
   "cell_type": "markdown",
   "metadata": {},
   "source": [
    "<br>\n",
    "\n",
    "### Documentation\n",
    "***"
   ]
  },
  {
   "cell_type": "markdown",
   "metadata": {},
   "source": [
    "<br>\n",
    "\n",
    "### Python Code Description\n",
    "In the Python code different packages and classes will be imported and used for instance:\n",
    "```python\n",
    "import numpy as np\n",
    "import matplotlib.pyplot as plt\n",
    "```\n",
    "\n",
    "In line 6 it is possible to pick the amount of trails in the variable `totaltrials`.\n",
    "```python\n",
    "# The Total amount of Trials\n",
    "totaltrials = 1000\n",
    "```\n",
    "From line 10 until line 18 integer variables with an initializing value of 0 and empty variables from type list will be created for the python code\n",
    "```python\n",
    "# Creating integer variables and variable from type list[]\n",
    "samplesize = 0\n",
    "flipresultlist = []\n",
    "outcomelist = []\n",
    "listflipresultlist = []\n",
    "totalflipresult =[]\n",
    "simulations = []\n",
    "simulation = []\n",
    "xaxistrials = 0\n",
    "xaxistrialslist =[]\n",
    "```\n",
    "When the binomial distribution is used the trials have to be reduced. The total trials will be split in smaller sections and amount of samples. The more total trials are used the more samples has to be run. For smaller trails it is possible to use a `binominal table`. In large trials the binominal table run out of numbers. That is the reason to split the total trials in smaller trial section and samples. After the probability results of the trails will be aggregate with the sample amount. A good number of trials to use are 10.[1]\n",
    "```python\n",
    "# split the total trials into 10 trials section and samples\n",
    "if totaltrials == 1000:\n",
    "    trials = int(totaltrials/100)\n",
    "    samplesize = int(totaltrials / 10)\n",
    "elif totaltrials == 100:\n",
    "    trials = int(totaltrials/10)\n",
    "    samplesize = int(totaltrials / 10)\n",
    "```\n",
    "In line 30 I’m using nested loops to simulate the total amount of trials. I’m using for both the \"for loops\" and “range” functions. The first \"for loop\" loops through the amount of sample or sample size. The second loop loops through the trails (10 trails). In every trail (1) the “nympy random binomial” distribution will be used with a probability (p) of flipping coin heads of 50% or 0.5. The result 0 False or 1 True coin head will be written in the variable “flipresult”. The flip results will be put in a list variable “flipresultlist”. The flip results will be also put and tracked in the list variable “totalflipresult”. The “totalflipresult” list will be printed out later one in line 48. When the first element (i) index variable is finished running in the first loop from the variable “samplesize” the second loop will be activated. The second loop runs the amount of trials in our case 10. When the trials are done the loop jumps back to the first loop and all the trial results “1” for coin heads in the “flipresultlist” will be aggregated and written into the variable “outcome”. The outcomes of each sample will be written in the list variable “outcomelist” in line 37.  After the “flipresultlist” will be cleared. The nested loops are running until all samples(samplesize) are done. I found some ideas for nested loops on the \"w3schools\" website[2].\n",
    "```python\n",
    "for i in range(samplesize):\n",
    "    for ele in range(trials):\n",
    "        flipresult = np.random.binomial(1,0.5)# random head flips per one trial with a probability of 0.5 = 50%\n",
    "        flipresultlist.append(flipresult)# put the flip results in a list     \n",
    "        totalflipresult.append(flipresult)# tracks the total flip results\n",
    "        \n",
    "    outcome = sum(flipresultlist)# calculate the sum of the resultlist (how many ones how many heads we flipped)       \n",
    "    outcomelist.append(outcome)# put the sum of heads flipped in to a list \"outcomelist\"\n",
    "    flipresultlist.clear()# clear the flipresultlist\n",
    "```\n",
    "A “for loop” and the “range” function is used to loop through the trials. The “numpy.equal” function is used to compare two numpy arrays or lists of equality for the same amount of array or list elements (arr1 == arr2). In our case the length of “outcomelist”(amount of arrays) with the range/length of the “trial” elements (the amount of trials). When the amount of arrays/lengths are equal the mean or average value of the “outcomelist” will be calculated and in the variable “simulation” written for each trial. The mean value will  be then written to a list “simulationlist”. In every loop the amount of trails will be counted in the “xaxistrials” variable and then written to the list variable “xaxistrialslist”. The “xaxistrialslist” variable will be used in the bar plot as the x axis. I found and modified some code from the following websites [3], [4] and [5].\n",
    "```python\n",
    "for elements in range(trials):   \n",
    "    simulations = np.equal(outcomelist,elements).mean()\n",
    "    simulationlist.append(simulations)\n",
    "    xaxistrials = xaxistrials + 1 # shows the amount of trials on the x axis of the plot\n",
    "    xaxistrialslist.append(xaxistrials) # put the amount of trials in to a list\n",
    "```\n",
    "Now prints out the result of every trial\n",
    "```python\n",
    "# Prints out the result of every trail\n",
    "print(\"The total flip results for {} trials are showing here. One is for coin heads and 0 for coin tails: {}\" .format(totaltrials,totalflipresult))\n",
    "```\n",
    "For plotting I use the “ggplot” style and increase the normal plot size. The plot will be created as a bar plot in a subplot.\n",
    "```python\n",
    "# Plotting of the Trials\n",
    "plt.style.use('ggplot') # global parameters for pyplot for \"ggplot\" plot style\n",
    "plt.rcParams['figure.figsize'] = 14, 10 # global parameters for pyplot increase the plot size\n",
    "\n",
    "plt.subplot(1,1,1)\n",
    "plt.bar(xaxistrialslist,simulationlist,color = 'b')\n",
    "plt.title('Probability of Coin Heads per {} trials'.format(totaltrials))\n",
    "plt.xlabel('Coin Heads per Sample')\n",
    "plt.ylabel('Probability of Coin Heads')\n",
    "plt.show()\n",
    "```\n",
    "***"
   ]
  },
  {
   "cell_type": "markdown",
   "metadata": {},
   "source": [
    "<br>\n",
    "\n",
    "## Reference\n",
    "***"
   ]
  },
  {
   "cell_type": "markdown",
   "metadata": {},
   "source": [
    "[1] :  Book \"Statistic for Dummies\" by Deborah J. Rumsey\n",
    "\n",
    "[2] :  https://www.w3schools.com/python/python_for_loops.asp\n",
    "\n",
    "[3] :  https://www.codespeedy.com/biased-coin-flipping-simulation-in-python/\n",
    "\n",
    "[4] :  https://numpy.org/doc/stable/reference/generated/numpy.equal.html\n",
    "\n",
    "[5] :  https://www.geeksforgeeks.org/numpy-equal-python/\n"
   ]
  },
  {
   "cell_type": "markdown",
   "metadata": {},
   "source": [
    "<br>\n",
    "\n",
    "## End Task 3 Flipping a Coin\n",
    "***"
   ]
  },
  {
   "cell_type": "markdown",
   "metadata": {},
   "source": [
    "<br>\n",
    "\n",
    "# Task 4 Simpson’s Paradox\n",
    "***"
   ]
  },
  {
   "cell_type": "markdown",
   "metadata": {},
   "source": [
    "<br>\n",
    "\n",
    "### Task Description\n",
    "Use Python numpy package to create four data sets. Each data set should contain an x array and a corresponding y array, to demonstrate the Simpson's paradox.\n",
    "***"
   ]
  },
  {
   "cell_type": "markdown",
   "metadata": {},
   "source": [
    "<br>\n",
    "\n",
    "### What is the Simpson's Paradox\n",
    "The Simpson's paradox has several different names for instance \"Simpson's reversal\", \"Yule-Simpson effect\", \"Amalgamation paradox\" or \"Reversal paradox\". The Simpson's paradox is a phenomenon in probability and statistics, in which a trend appears in different groups of data. It can be an upward or downward trend. But when the different groups are combined or the data been aggregated the opposite trend appears [1].\n",
    "***"
   ]
  },
  {
   "cell_type": "markdown",
   "metadata": {},
   "source": [
    "<br>\n",
    "\n",
    "### Explanation of the Task\n",
    "\n",
    "***"
   ]
  },
  {
   "cell_type": "code",
   "execution_count": null,
   "metadata": {},
   "outputs": [],
   "source": []
  },
  {
   "cell_type": "code",
   "execution_count": null,
   "metadata": {},
   "outputs": [],
   "source": []
  },
  {
   "cell_type": "markdown",
   "metadata": {},
   "source": [
    "<br>\n",
    "\n",
    "## Reference\n",
    "***"
   ]
  },
  {
   "cell_type": "markdown",
   "metadata": {},
   "source": [
    "[1] :  https://en.wikipedia.org/wiki/Simpson%27s_paradox\n",
    "\n"
   ]
  }
 ],
 "metadata": {
  "kernelspec": {
   "display_name": "Python 3",
   "language": "python",
   "name": "python3"
  },
  "language_info": {
   "codemirror_mode": {
    "name": "ipython",
    "version": 3
   },
   "file_extension": ".py",
   "mimetype": "text/x-python",
   "name": "python",
   "nbconvert_exporter": "python",
   "pygments_lexer": "ipython3",
   "version": "3.8.3"
  }
 },
 "nbformat": 4,
 "nbformat_minor": 4
}
