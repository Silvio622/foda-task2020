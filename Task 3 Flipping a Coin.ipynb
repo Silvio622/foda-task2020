{
 "cells": [
  {
   "cell_type": "markdown",
   "metadata": {},
   "source": [
    "<br>\n",
    "\n",
    "# Task 3 Flipping a Coin\n",
    "***"
   ]
  },
  {
   "cell_type": "markdown",
   "metadata": {},
   "source": [
    "### Author: Silvio Dunst"
   ]
  },
  {
   "cell_type": "markdown",
   "metadata": {},
   "source": [
    "<br>\n",
    "\n",
    "### Task Description\n",
    "The Python code below simulates a flipping coin 100 or 1000 times. The amount of simulation can be changed in the variable “totaltrails” at the beginning of the python code. The python code keeps track on each coin head per simulation. The result of the simulation will be plotted in a bar plot.\n",
    "***"
   ]
  },
  {
   "cell_type": "markdown",
   "metadata": {},
   "source": [
    "<br>\n",
    "\n",
    "### Explanation of the Task\n",
    "The plot shows the probability of flipped coin heads per sample. Each sample has 10 trials in it. The greater the sample size or amount of samples the more the bar plot takes the shape of a bell curve. The centre of the plot shows the chance or probability of the flipped coin head appears by 10 trials. The coin heads appear mostly between 5 and 6 times per 10 trials or sample. The chance to have less coin heads per 10 trials is decreasing further and further. It is shown on the left side of plot. The bar length becomes shorter. The chance to have more coin heads per 10 trials is decreasing further and further as well. It is shown on the right side of plot. The bar length becomes shorter. The chance or probability to have 10 coin heads or 10 coin tails is very slim.\n",
    "***"
   ]
  },
  {
   "cell_type": "code",
   "execution_count": 4,
   "metadata": {},
   "outputs": [
    {
     "name": "stdout",
     "output_type": "stream",
     "text": [
      "The total flip results for 1000 trials are showing here. One is for coin heads and 0 for coin tails: [1, 1, 0, 1, 0, 1, 0, 0, 0, 0, 0, 1, 1, 1, 0, 0, 0, 0, 1, 1, 1, 0, 0, 0, 0, 0, 0, 1, 0, 1, 0, 0, 1, 0, 1, 1, 0, 0, 1, 1, 1, 0, 0, 0, 0, 1, 1, 1, 1, 0, 1, 1, 1, 0, 1, 1, 1, 1, 0, 0, 0, 0, 0, 1, 0, 0, 1, 0, 1, 1, 1, 0, 0, 1, 0, 1, 0, 0, 0, 0, 0, 1, 1, 1, 1, 1, 0, 0, 1, 0, 0, 0, 0, 0, 0, 1, 0, 1, 1, 0, 1, 1, 1, 1, 0, 0, 1, 0, 0, 0, 0, 0, 0, 0, 0, 0, 1, 0, 1, 0, 0, 1, 0, 0, 1, 0, 0, 0, 0, 1, 0, 0, 0, 0, 1, 1, 0, 0, 0, 1, 1, 0, 1, 1, 0, 1, 0, 0, 0, 0, 0, 0, 0, 1, 0, 1, 0, 1, 1, 1, 1, 1, 1, 1, 0, 0, 1, 1, 0, 0, 1, 1, 0, 1, 1, 1, 0, 0, 1, 1, 0, 1, 0, 0, 0, 1, 0, 1, 0, 0, 0, 1, 0, 0, 0, 1, 0, 0, 1, 0, 1, 0, 1, 1, 1, 1, 0, 0, 1, 1, 1, 1, 1, 1, 0, 1, 0, 1, 0, 0, 1, 0, 1, 1, 0, 1, 0, 0, 0, 0, 1, 0, 0, 0, 1, 1, 1, 1, 1, 1, 1, 1, 0, 0, 0, 1, 0, 0, 1, 1, 0, 1, 1, 0, 1, 0, 0, 0, 0, 1, 1, 1, 0, 1, 1, 1, 1, 0, 1, 1, 1, 0, 1, 0, 1, 0, 0, 1, 1, 0, 1, 0, 0, 0, 0, 1, 1, 0, 0, 1, 1, 1, 1, 1, 1, 1, 1, 0, 1, 0, 1, 0, 1, 1, 1, 1, 0, 0, 1, 1, 1, 0, 0, 1, 1, 1, 0, 0, 0, 1, 1, 1, 1, 0, 0, 1, 1, 0, 0, 1, 1, 1, 1, 1, 0, 1, 0, 1, 1, 0, 1, 1, 0, 0, 1, 1, 0, 1, 1, 1, 1, 0, 1, 0, 0, 0, 1, 1, 1, 0, 1, 0, 1, 1, 1, 0, 1, 1, 1, 0, 0, 1, 1, 1, 0, 0, 0, 0, 1, 1, 0, 0, 0, 0, 1, 0, 0, 1, 0, 1, 0, 0, 0, 1, 0, 1, 1, 1, 1, 0, 1, 1, 0, 0, 0, 0, 1, 1, 1, 1, 1, 1, 0, 0, 0, 0, 1, 1, 1, 1, 0, 1, 0, 0, 1, 1, 1, 1, 1, 0, 1, 0, 1, 0, 0, 1, 1, 0, 1, 1, 0, 1, 0, 1, 0, 1, 0, 0, 1, 0, 1, 0, 0, 0, 1, 0, 0, 1, 1, 1, 1, 1, 0, 0, 1, 1, 1, 1, 0, 1, 1, 0, 1, 0, 0, 0, 0, 1, 0, 1, 0, 1, 1, 1, 0, 1, 0, 0, 0, 0, 1, 1, 0, 1, 1, 0, 0, 1, 0, 1, 0, 1, 1, 0, 1, 1, 1, 1, 1, 1, 0, 1, 1, 0, 1, 0, 1, 1, 1, 1, 0, 1, 0, 0, 0, 1, 1, 0, 0, 0, 1, 0, 0, 1, 0, 1, 1, 1, 1, 0, 0, 0, 1, 1, 0, 0, 0, 1, 1, 1, 0, 0, 0, 1, 0, 1, 0, 1, 1, 0, 0, 0, 0, 1, 0, 0, 1, 1, 1, 0, 1, 1, 0, 1, 1, 0, 1, 0, 1, 0, 1, 1, 1, 1, 1, 1, 0, 1, 1, 1, 1, 0, 0, 1, 0, 1, 0, 1, 0, 1, 0, 1, 1, 1, 0, 0, 0, 1, 0, 0, 1, 1, 1, 1, 0, 0, 1, 0, 1, 1, 1, 1, 1, 0, 0, 0, 1, 1, 0, 1, 0, 1, 0, 0, 0, 1, 1, 1, 1, 0, 0, 1, 0, 0, 1, 1, 0, 0, 0, 0, 1, 0, 1, 1, 1, 0, 0, 1, 1, 1, 1, 0, 1, 1, 1, 1, 0, 0, 0, 0, 0, 0, 1, 0, 1, 1, 1, 1, 1, 1, 0, 0, 0, 0, 1, 1, 1, 1, 0, 0, 0, 0, 1, 1, 1, 0, 1, 0, 1, 0, 0, 0, 0, 1, 1, 1, 0, 0, 1, 1, 1, 1, 1, 0, 0, 1, 0, 1, 1, 0, 1, 0, 0, 1, 1, 1, 1, 1, 1, 1, 1, 0, 0, 0, 0, 1, 1, 0, 1, 0, 1, 0, 1, 1, 1, 1, 1, 1, 0, 0, 1, 0, 0, 0, 0, 0, 1, 0, 1, 1, 1, 0, 1, 0, 0, 1, 0, 1, 1, 1, 1, 1, 0, 1, 1, 1, 0, 0, 1, 0, 1, 1, 1, 1, 1, 0, 1, 0, 1, 1, 0, 1, 1, 0, 1, 1, 0, 1, 0, 0, 0, 1, 0, 1, 1, 0, 1, 0, 0, 0, 1, 1, 1, 0, 1, 1, 0, 1, 1, 0, 1, 1, 0, 1, 0, 0, 1, 0, 1, 0, 1, 0, 0, 0, 1, 0, 1, 0, 0, 1, 0, 0, 0, 1, 0, 1, 0, 1, 1, 0, 0, 1, 1, 0, 1, 0, 1, 1, 1, 0, 0, 1, 0, 0, 0, 0, 0, 0, 1, 0, 0, 0, 1, 1, 0, 1, 0, 0, 1, 1, 1, 0, 0, 0, 1, 0, 1, 0, 1, 0, 0, 0, 0, 0, 1, 0, 0, 1, 0, 1, 1, 1, 0, 1, 0, 1, 0, 1, 1, 0, 0, 1, 1, 0, 1, 0, 1, 1, 0, 1, 0, 0, 1, 1, 1, 0, 1, 1, 0, 0, 0, 1, 0, 0, 0, 0, 1, 0, 1, 1, 1, 0, 0, 0, 1, 1, 0, 1, 0, 1, 1, 0, 0, 0, 0, 0, 0, 1, 0, 1, 1, 1, 1, 1, 1, 1, 1, 0, 1, 1, 1, 1, 1, 0, 1, 0, 1, 1, 0, 1, 1, 1, 1, 1, 1, 0, 1, 0, 0, 1, 0, 1, 0, 0, 1, 0, 0, 1, 1, 0]\n"
     ]
    },
    {
     "data": {
      "text/plain": [
       "<function matplotlib.pyplot.show(*args, **kw)>"
      ]
     },
     "execution_count": 4,
     "metadata": {},
     "output_type": "execute_result"
    },
    {
     "data": {
      "image/png": "[encoded data removed]",
      "text/plain": [
       "<Figure size 1008x720 with 1 Axes>"
      ]
     },
     "metadata": {},
     "output_type": "display_data"
    }
   ],
   "source": [
    "import numpy as np\n",
    "import matplotlib.pyplot as plt\n",
    "\n",
    "\n",
    "# The Total amount of Trials\n",
    "totaltrials = 1000\n",
    "\n",
    "\n",
    "# Creating integer variables and variable from type list[]\n",
    "samplesize = 0\n",
    "flipresultlist = []\n",
    "outcomelist = []\n",
    "listflipresultlist = []\n",
    "totalflipresult =[]\n",
    "simulations = []\n",
    "simulationlist = []\n",
    "xaxistrials = 0\n",
    "xaxistrialslist =[]\n",
    "\n",
    "\n",
    "# split the total trials into 10 trials section and samples\n",
    "if totaltrials == 1000:\n",
    "    trials = int(totaltrials/100)\n",
    "    samplesize = int(totaltrials / 10)\n",
    "elif totaltrials == 100:\n",
    "    trials = int(totaltrials/10)\n",
    "    samplesize = int(totaltrials / 10)\n",
    "    \n",
    "\n",
    "for i in range(samplesize):\n",
    "    for ele in range(trials):\n",
    "        flipresult = np.random.binomial(1,0.5)# random head flips per one trial with a probability of 0.5 = 50%\n",
    "        flipresultlist.append(flipresult)# put the flip results in a list     \n",
    "        totalflipresult.append(flipresult)# tracks the total flip results\n",
    "        \n",
    "    outcome = sum(flipresultlist)# calculate the sum of the resultlist (how many ones how many heads we flipped)       \n",
    "    outcomelist.append(outcome)# put the sum of heads flipped in to a list \"outcomelist\"\n",
    "    flipresultlist.clear()# clear the flipresultlist     \n",
    "\n",
    "\n",
    "for elements in range(trials):   \n",
    "    simulations = np.equal(outcomelist,elements).mean()\n",
    "    simulationlist.append(simulations)\n",
    "    xaxistrials = xaxistrials + 1 # shows the amount of trials on the x axis of the plot\n",
    "    xaxistrialslist.append(xaxistrials) # put the amount of trials in to a list\n",
    "\n",
    "# Prints out the result of every trail\n",
    "print(\"The total flip results for {} trials are showing here. One is for coin heads and 0 for coin tails: {}\" .format(totaltrials,totalflipresult))\n",
    " \n",
    "\n",
    "# Plotting of the Trials\n",
    "plt.style.use('ggplot') # global parameters for pyplot for \"ggplot\" plot style\n",
    "plt.rcParams['figure.figsize'] = 14, 10 # global parameters for pyplot increase the plot size\n",
    "\n",
    "plt.subplot(1,1,1)\n",
    "plt.bar(xaxistrialslist,simulationlist,color = 'b')\n",
    "plt.title('Probability of Coin Heads per {} trials'.format(totaltrials))\n",
    "plt.xlabel('Coin Heads per Sample')\n",
    "plt.ylabel('Probability of Coin Heads')\n",
    "plt.show\n",
    " \n"
   ]
  },
  {
   "cell_type": "markdown",
   "metadata": {
    "collapsed": true
   },
   "source": [
    "<br>\n",
    "\n",
    "### Documentation\n",
    "***\n"
   ]
  },
  {
   "cell_type": "markdown",
   "metadata": {},
   "source": [
    "<br>\n",
    "\n",
    "### Python Code Description\n",
    "In the Python code different packages and classes will be imported and used for instance:\n",
    "```python\n",
    "import numpy as np\n",
    "import matplotlib.pyplot as plt\n",
    "```\n",
    "\n",
    "In line 6 it is possible to pick the amount of trails in the variable `totaltrials`.\n",
    "```python\n",
    "# The Total amount of Trials\n",
    "totaltrials = 1000\n",
    "```\n",
    "From line 10 until line 18 integer variables with an initializing value of 0 and empty variables from type list will be created for the python code\n",
    "```python\n",
    "# Creating integer variables and variable from type list[]\n",
    "samplesize = 0\n",
    "flipresultlist = []\n",
    "outcomelist = []\n",
    "listflipresultlist = []\n",
    "totalflipresult =[]\n",
    "simulations = []\n",
    "simulation = []\n",
    "xaxistrials = 0\n",
    "xaxistrialslist =[]\n",
    "```\n",
    "When the binomial distribution is used the trials have to be reduced. The total trials will be split in smaller sections and amount of samples. The more total trials are used the more samples has to be run. For smaller trails it is possible to use a `binominal table`. In large trials the binominal table run out of numbers. That is the reason to split the total trials in smaller trial section and samples. After the probability results of the trails will be aggregate with the sample amount. A good number of trials to use are 10.[1]\n",
    "```python\n",
    "# split the total trials into 10 trials section and samples\n",
    "if totaltrials == 1000:\n",
    "    trials = int(totaltrials/100)\n",
    "    samplesize = int(totaltrials / 10)\n",
    "elif totaltrials == 100:\n",
    "    trials = int(totaltrials/10)\n",
    "    samplesize = int(totaltrials / 10)\n",
    "```\n",
    "In line 30 I’m using nested loops to simulate the total amount of trials. I’m using for both the \"for loops\" and “range” functions. The first \"for loop\" loops through the amount of sample or sample size. The second loop loops through the trails (10 trails). In every trail (1) the “nympy random binomial” distribution will be used with a probability (p) of flipping coin heads of 50% or 0.5. The result 0 False or 1 True coin head will be written in the variable “flipresult”. The flip results will be put in a list variable “flipresultlist”. The flip results will be also put and tracked in the list variable “totalflipresult”. The “totalflipresult” list will be printed out later one in line 48. When the first element (i) index variable is finished running in the first loop from the variable “samplesize” the second loop will be activated. The second loop runs the amount of trials in our case 10. When the trials are done the loop jumps back to the first loop and all the trial results “1” for coin heads in the “flipresultlist” will be aggregated and written into the variable “outcome”. The outcomes of each sample will be written in the list variable “outcomelist” in line 37.  After the “flipresultlist” will be cleared. The nested loops are running until all samples(samplesize) are done. I found some ideas for nested loops on the \"w3schools\" website[2].\n",
    "```python\n",
    "for i in range(samplesize):\n",
    "    for ele in range(trials):\n",
    "        flipresult = np.random.binomial(1,0.5)# random head flips per one trial with a probability of 0.5 = 50%\n",
    "        flipresultlist.append(flipresult)# put the flip results in a list     \n",
    "        totalflipresult.append(flipresult)# tracks the total flip results\n",
    "        \n",
    "    outcome = sum(flipresultlist)# calculate the sum of the resultlist (how many ones how many heads we flipped)       \n",
    "    outcomelist.append(outcome)# put the sum of heads flipped in to a list \"outcomelist\"\n",
    "    flipresultlist.clear()# clear the flipresultlist\n",
    "```\n",
    "A “for loop” and the “range” function is used to loop through the trials. The “numpy.equal” function is used to compare two numpy arrays or lists of equality for the same amount of array or list elements (arr1 == arr2). In our case the length of “outcomelist”(amount of arrays) with the range/length of the “trial” elements (the amount of trials). When the amount of arrays/lengths are equal the mean or average value of the “outcomelist” will be calculated and in the variable “simulation” written for each trial. The mean value will  be then written to a list “simulationlist”. In every loop the amount of trails will be counted in the “xaxistrials” variable and then written to the list variable “xaxistrialslist”. The “xaxistrialslist” variable will be used in the bar plot as the x axis. I found and modified some code from the following websites [3], [4] and [5].\n",
    "```python\n",
    "for elements in range(trials):   \n",
    "    simulations = np.equal(outcomelist,elements).mean()\n",
    "    simulationlist.append(simulations)\n",
    "    xaxistrials = xaxistrials + 1 # shows the amount of trials on the x axis of the plot\n",
    "    xaxistrialslist.append(xaxistrials) # put the amount of trials in to a list\n",
    "```\n",
    "Now prints out the result of every trial\n",
    "```python\n",
    "# Prints out the result of every trail\n",
    "print(\"The total flip results for {} trials are showing here. One is for coin heads and 0 for coin tails: {}\" .format(totaltrials,totalflipresult))\n",
    "```\n",
    "For plotting I use the “ggplot” style and increase the normal plot size. The plot will be created as a bar plot in a subplot.\n",
    "```python\n",
    "# Plotting of the Trials\n",
    "plt.style.use('ggplot') # global parameters for pyplot for \"ggplot\" plot style\n",
    "plt.rcParams['figure.figsize'] = 14, 10 # global parameters for pyplot increase the plot size\n",
    "\n",
    "plt.subplot(1,1,1)\n",
    "plt.bar(xaxistrialslist,simulationlist,color = 'b')\n",
    "plt.title('Probability of Coin Heads per {} trials'.format(totaltrials))\n",
    "plt.xlabel('Coin Heads per Sample')\n",
    "plt.ylabel('Probability of Coin Heads')\n",
    "plt.show\n",
    "```\n",
    "***"
   ]
  },
  {
   "cell_type": "markdown",
   "metadata": {},
   "source": [
    "<br>\n",
    "\n",
    "## Reference\n",
    "***"
   ]
  },
  {
   "cell_type": "markdown",
   "metadata": {},
   "source": [
    "[1] :  Book \"Statistic for Dummies\" by Deborah J. Rumsey\n",
    "\n",
    "[2] :  https://www.w3schools.com/python/python_for_loops.asp\n",
    "\n",
    "[3] :  https://www.codespeedy.com/biased-coin-flipping-simulation-in-python/\n",
    "\n",
    "[4] :  https://numpy.org/doc/stable/reference/generated/numpy.equal.html\n",
    "\n",
    "[5] :  https://www.geeksforgeeks.org/numpy-equal-python/\n"
   ]
  },
  {
   "cell_type": "markdown",
   "metadata": {},
   "source": [
    "<br>\n",
    "\n",
    "## End\n",
    "***"
   ]
  },
  {
   "cell_type": "code",
   "execution_count": null,
   "metadata": {},
   "outputs": [],
   "source": []
  }
 ],
 "metadata": {
  "kernelspec": {
   "display_name": "Python 3",
   "language": "python",
   "name": "python3"
  },
  "language_info": {
   "codemirror_mode": {
    "name": "ipython",
    "version": 3
   },
   "file_extension": ".py",
   "mimetype": "text/x-python",
   "name": "python",
   "nbconvert_exporter": "python",
   "pygments_lexer": "ipython3",
   "version": "3.8.3"
  }
 },
 "nbformat": 4,
 "nbformat_minor": 4
}
